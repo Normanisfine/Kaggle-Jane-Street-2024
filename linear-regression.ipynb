{
 "cells": [
  {
   "cell_type": "code",
   "execution_count": 9,
   "metadata": {
    "id": "9oiVgeQhtPos"
   },
   "outputs": [],
   "source": [
    "import numpy as np\n",
    "import pandas as pd\n",
    "from sklearn.model_selection import train_test_split\n",
    "from sklearn.preprocessing import PolynomialFeatures, StandardScaler\n",
    "from sklearn.linear_model import LinearRegression\n",
    "from sklearn.metrics import r2_score\n",
    "from sklearn.kernel_ridge import KernelRidge\n",
    "from sklearn.metrics.pairwise import rbf_kernel\n",
    "import matplotlib.pyplot as plt\n",
    "from sklearn.decomposition import PCA\n",
    "from sklearn.linear_model import Ridge\n"
   ]
  },
  {
   "cell_type": "markdown",
   "metadata": {
    "id": "rfqKcB_5tPot"
   },
   "source": [
    "# Overview\n",
    "\n",
    "In this notebook, we will try linear regression with kernel transformation and regularization\n",
    "\n",
    "## Report Metrics\n",
    "sample weighted zero-mean R-squared score (R2) of responder_6:\n",
    "$ R^2 = 1 - \\frac{\\sum w_i (y_i - \\hat{y}_i)^2}{\\sum w_i y_i^2}$\n",
    "\n",
    "## Kernel Used\n",
    "1. Polynomila Kernels\n",
    "2. RBF Kernels\n",
    "\n",
    "## Other Transformation Method\n",
    "PCA\n",
    "\n",
    "## Regularization\n",
    "We used Ridge Regularization with RBF Kernel and with PCA."
   ]
  },
  {
   "cell_type": "markdown",
   "metadata": {
    "id": "nMYBC9L0tPou"
   },
   "source": [
    "# Load Data and Split"
   ]
  },
  {
   "cell_type": "code",
   "execution_count": 2,
   "metadata": {
    "id": "H2H19AUmtPou"
   },
   "outputs": [],
   "source": [
    "df = pd.read_csv(\"df_miss_outliers_replaced_scaled_normalized.csv\")"
   ]
  },
  {
   "cell_type": "code",
   "execution_count": 3,
   "metadata": {
    "id": "RrLx4LCctPou"
   },
   "outputs": [],
   "source": [
    "features = df[[f\"feature_{i:02}\" for i in range(79)]]\n",
    "target = df['responder_6']"
   ]
  },
  {
   "cell_type": "markdown",
   "metadata": {
    "id": "R7mYIfdGtPou"
   },
   "source": [
    "## Split the dataset into training (80%) and validation (20%) sets"
   ]
  },
  {
   "cell_type": "code",
   "execution_count": 4,
   "metadata": {
    "id": "WwTYUHc4tPou"
   },
   "outputs": [],
   "source": [
    "X_train, X_val, y_train, y_val = train_test_split(features, target, test_size=0.2, random_state=42)"
   ]
  },
  {
   "cell_type": "markdown",
   "metadata": {
    "id": "UnJIKyh-tPou"
   },
   "source": [
    "## Polynomial Kernel + Linear Regression"
   ]
  },
  {
   "cell_type": "code",
   "execution_count": null,
   "metadata": {
    "id": "tHexeGlmtPov"
   },
   "outputs": [],
   "source": [
    "# Create polynomial features\n",
    "poly = PolynomialFeatures(degree=2)  # You can adjust the degree\n",
    "X_train_poly = poly.fit_transform(X_train)\n",
    "X_val_poly = poly.transform(X_val)\n"
   ]
  },
  {
   "cell_type": "code",
   "execution_count": null,
   "metadata": {
    "id": "ABBiVeORtPov",
    "outputId": "554c4115-0076-46d0-a76c-34c63baf74d1"
   },
   "outputs": [
    {
     "data": {
      "text/html": [
       "<style>#sk-container-id-1 {color: black;}#sk-container-id-1 pre{padding: 0;}#sk-container-id-1 div.sk-toggleable {background-color: white;}#sk-container-id-1 label.sk-toggleable__label {cursor: pointer;display: block;width: 100%;margin-bottom: 0;padding: 0.3em;box-sizing: border-box;text-align: center;}#sk-container-id-1 label.sk-toggleable__label-arrow:before {content: \"▸\";float: left;margin-right: 0.25em;color: #696969;}#sk-container-id-1 label.sk-toggleable__label-arrow:hover:before {color: black;}#sk-container-id-1 div.sk-estimator:hover label.sk-toggleable__label-arrow:before {color: black;}#sk-container-id-1 div.sk-toggleable__content {max-height: 0;max-width: 0;overflow: hidden;text-align: left;background-color: #f0f8ff;}#sk-container-id-1 div.sk-toggleable__content pre {margin: 0.2em;color: black;border-radius: 0.25em;background-color: #f0f8ff;}#sk-container-id-1 input.sk-toggleable__control:checked~div.sk-toggleable__content {max-height: 200px;max-width: 100%;overflow: auto;}#sk-container-id-1 input.sk-toggleable__control:checked~label.sk-toggleable__label-arrow:before {content: \"▾\";}#sk-container-id-1 div.sk-estimator input.sk-toggleable__control:checked~label.sk-toggleable__label {background-color: #d4ebff;}#sk-container-id-1 div.sk-label input.sk-toggleable__control:checked~label.sk-toggleable__label {background-color: #d4ebff;}#sk-container-id-1 input.sk-hidden--visually {border: 0;clip: rect(1px 1px 1px 1px);clip: rect(1px, 1px, 1px, 1px);height: 1px;margin: -1px;overflow: hidden;padding: 0;position: absolute;width: 1px;}#sk-container-id-1 div.sk-estimator {font-family: monospace;background-color: #f0f8ff;border: 1px dotted black;border-radius: 0.25em;box-sizing: border-box;margin-bottom: 0.5em;}#sk-container-id-1 div.sk-estimator:hover {background-color: #d4ebff;}#sk-container-id-1 div.sk-parallel-item::after {content: \"\";width: 100%;border-bottom: 1px solid gray;flex-grow: 1;}#sk-container-id-1 div.sk-label:hover label.sk-toggleable__label {background-color: #d4ebff;}#sk-container-id-1 div.sk-serial::before {content: \"\";position: absolute;border-left: 1px solid gray;box-sizing: border-box;top: 0;bottom: 0;left: 50%;z-index: 0;}#sk-container-id-1 div.sk-serial {display: flex;flex-direction: column;align-items: center;background-color: white;padding-right: 0.2em;padding-left: 0.2em;position: relative;}#sk-container-id-1 div.sk-item {position: relative;z-index: 1;}#sk-container-id-1 div.sk-parallel {display: flex;align-items: stretch;justify-content: center;background-color: white;position: relative;}#sk-container-id-1 div.sk-item::before, #sk-container-id-1 div.sk-parallel-item::before {content: \"\";position: absolute;border-left: 1px solid gray;box-sizing: border-box;top: 0;bottom: 0;left: 50%;z-index: -1;}#sk-container-id-1 div.sk-parallel-item {display: flex;flex-direction: column;z-index: 1;position: relative;background-color: white;}#sk-container-id-1 div.sk-parallel-item:first-child::after {align-self: flex-end;width: 50%;}#sk-container-id-1 div.sk-parallel-item:last-child::after {align-self: flex-start;width: 50%;}#sk-container-id-1 div.sk-parallel-item:only-child::after {width: 0;}#sk-container-id-1 div.sk-dashed-wrapped {border: 1px dashed gray;margin: 0 0.4em 0.5em 0.4em;box-sizing: border-box;padding-bottom: 0.4em;background-color: white;}#sk-container-id-1 div.sk-label label {font-family: monospace;font-weight: bold;display: inline-block;line-height: 1.2em;}#sk-container-id-1 div.sk-label-container {text-align: center;}#sk-container-id-1 div.sk-container {/* jupyter's `normalize.less` sets `[hidden] { display: none; }` but bootstrap.min.css set `[hidden] { display: none !important; }` so we also need the `!important` here to be able to override the default hidden behavior on the sphinx rendered scikit-learn.org. See: https://github.com/scikit-learn/scikit-learn/issues/21755 */display: inline-block !important;position: relative;}#sk-container-id-1 div.sk-text-repr-fallback {display: none;}</style><div id=\"sk-container-id-1\" class=\"sk-top-container\"><div class=\"sk-text-repr-fallback\"><pre>LinearRegression()</pre><b>In a Jupyter environment, please rerun this cell to show the HTML representation or trust the notebook. <br />On GitHub, the HTML representation is unable to render, please try loading this page with nbviewer.org.</b></div><div class=\"sk-container\" hidden><div class=\"sk-item\"><div class=\"sk-estimator sk-toggleable\"><input class=\"sk-toggleable__control sk-hidden--visually\" id=\"sk-estimator-id-1\" type=\"checkbox\" checked><label for=\"sk-estimator-id-1\" class=\"sk-toggleable__label sk-toggleable__label-arrow\">LinearRegression</label><div class=\"sk-toggleable__content\"><pre>LinearRegression()</pre></div></div></div></div></div>"
      ],
      "text/plain": [
       "LinearRegression()"
      ]
     },
     "execution_count": 13,
     "metadata": {},
     "output_type": "execute_result"
    }
   ],
   "source": [
    "# Fit Linear Regression\n",
    "model = LinearRegression()\n",
    "model.fit(X_train_poly, y_train)\n"
   ]
  },
  {
   "cell_type": "markdown",
   "metadata": {
    "id": "eTaUiQ4_tPov"
   },
   "source": [
    "### Validation Metrics"
   ]
  },
  {
   "cell_type": "code",
   "execution_count": null,
   "metadata": {
    "id": "cHXMOKfDtPov"
   },
   "outputs": [],
   "source": [
    "# Predict on validation set\n",
    "y_pred = model.predict(X_val_poly)\n",
    "\n",
    "weights_val = df.loc[y_val.index, 'weight']"
   ]
  },
  {
   "cell_type": "code",
   "execution_count": null,
   "metadata": {
    "id": "xkmser6otPov",
    "outputId": "b706f1d3-6b60-45f4-80fb-40995f29af13"
   },
   "outputs": [
    {
     "name": "stdout",
     "output_type": "stream",
     "text": [
      "Weighted zero-mean R^2 score: -0.004138794607616347\n"
     ]
    }
   ],
   "source": [
    "# Calculate zero-mean R2\n",
    "y_val_mean_adjusted = y_val - np.mean(y_val)\n",
    "y_pred_mean_adjusted = y_pred - np.mean(y_pred)\n",
    "weighted_r2 = r2_score(y_val_mean_adjusted, y_pred_mean_adjusted, sample_weight=weights_val)\n",
    "\n",
    "print(f\"Weighted zero-mean R^2 score: {weighted_r2}\")"
   ]
  },
  {
   "cell_type": "markdown",
   "metadata": {
    "id": "tcIEsCzdtPow"
   },
   "source": [
    "## Linear Regression without Kernel"
   ]
  },
  {
   "cell_type": "code",
   "execution_count": null,
   "metadata": {
    "id": "mQi8tSLGtPow",
    "outputId": "219ebd0d-b901-498a-e130-e278fdcc448f"
   },
   "outputs": [
    {
     "data": {
      "text/html": [
       "<style>#sk-container-id-3 {color: black;}#sk-container-id-3 pre{padding: 0;}#sk-container-id-3 div.sk-toggleable {background-color: white;}#sk-container-id-3 label.sk-toggleable__label {cursor: pointer;display: block;width: 100%;margin-bottom: 0;padding: 0.3em;box-sizing: border-box;text-align: center;}#sk-container-id-3 label.sk-toggleable__label-arrow:before {content: \"▸\";float: left;margin-right: 0.25em;color: #696969;}#sk-container-id-3 label.sk-toggleable__label-arrow:hover:before {color: black;}#sk-container-id-3 div.sk-estimator:hover label.sk-toggleable__label-arrow:before {color: black;}#sk-container-id-3 div.sk-toggleable__content {max-height: 0;max-width: 0;overflow: hidden;text-align: left;background-color: #f0f8ff;}#sk-container-id-3 div.sk-toggleable__content pre {margin: 0.2em;color: black;border-radius: 0.25em;background-color: #f0f8ff;}#sk-container-id-3 input.sk-toggleable__control:checked~div.sk-toggleable__content {max-height: 200px;max-width: 100%;overflow: auto;}#sk-container-id-3 input.sk-toggleable__control:checked~label.sk-toggleable__label-arrow:before {content: \"▾\";}#sk-container-id-3 div.sk-estimator input.sk-toggleable__control:checked~label.sk-toggleable__label {background-color: #d4ebff;}#sk-container-id-3 div.sk-label input.sk-toggleable__control:checked~label.sk-toggleable__label {background-color: #d4ebff;}#sk-container-id-3 input.sk-hidden--visually {border: 0;clip: rect(1px 1px 1px 1px);clip: rect(1px, 1px, 1px, 1px);height: 1px;margin: -1px;overflow: hidden;padding: 0;position: absolute;width: 1px;}#sk-container-id-3 div.sk-estimator {font-family: monospace;background-color: #f0f8ff;border: 1px dotted black;border-radius: 0.25em;box-sizing: border-box;margin-bottom: 0.5em;}#sk-container-id-3 div.sk-estimator:hover {background-color: #d4ebff;}#sk-container-id-3 div.sk-parallel-item::after {content: \"\";width: 100%;border-bottom: 1px solid gray;flex-grow: 1;}#sk-container-id-3 div.sk-label:hover label.sk-toggleable__label {background-color: #d4ebff;}#sk-container-id-3 div.sk-serial::before {content: \"\";position: absolute;border-left: 1px solid gray;box-sizing: border-box;top: 0;bottom: 0;left: 50%;z-index: 0;}#sk-container-id-3 div.sk-serial {display: flex;flex-direction: column;align-items: center;background-color: white;padding-right: 0.2em;padding-left: 0.2em;position: relative;}#sk-container-id-3 div.sk-item {position: relative;z-index: 1;}#sk-container-id-3 div.sk-parallel {display: flex;align-items: stretch;justify-content: center;background-color: white;position: relative;}#sk-container-id-3 div.sk-item::before, #sk-container-id-3 div.sk-parallel-item::before {content: \"\";position: absolute;border-left: 1px solid gray;box-sizing: border-box;top: 0;bottom: 0;left: 50%;z-index: -1;}#sk-container-id-3 div.sk-parallel-item {display: flex;flex-direction: column;z-index: 1;position: relative;background-color: white;}#sk-container-id-3 div.sk-parallel-item:first-child::after {align-self: flex-end;width: 50%;}#sk-container-id-3 div.sk-parallel-item:last-child::after {align-self: flex-start;width: 50%;}#sk-container-id-3 div.sk-parallel-item:only-child::after {width: 0;}#sk-container-id-3 div.sk-dashed-wrapped {border: 1px dashed gray;margin: 0 0.4em 0.5em 0.4em;box-sizing: border-box;padding-bottom: 0.4em;background-color: white;}#sk-container-id-3 div.sk-label label {font-family: monospace;font-weight: bold;display: inline-block;line-height: 1.2em;}#sk-container-id-3 div.sk-label-container {text-align: center;}#sk-container-id-3 div.sk-container {/* jupyter's `normalize.less` sets `[hidden] { display: none; }` but bootstrap.min.css set `[hidden] { display: none !important; }` so we also need the `!important` here to be able to override the default hidden behavior on the sphinx rendered scikit-learn.org. See: https://github.com/scikit-learn/scikit-learn/issues/21755 */display: inline-block !important;position: relative;}#sk-container-id-3 div.sk-text-repr-fallback {display: none;}</style><div id=\"sk-container-id-3\" class=\"sk-top-container\"><div class=\"sk-text-repr-fallback\"><pre>LinearRegression()</pre><b>In a Jupyter environment, please rerun this cell to show the HTML representation or trust the notebook. <br />On GitHub, the HTML representation is unable to render, please try loading this page with nbviewer.org.</b></div><div class=\"sk-container\" hidden><div class=\"sk-item\"><div class=\"sk-estimator sk-toggleable\"><input class=\"sk-toggleable__control sk-hidden--visually\" id=\"sk-estimator-id-3\" type=\"checkbox\" checked><label for=\"sk-estimator-id-3\" class=\"sk-toggleable__label sk-toggleable__label-arrow\">LinearRegression</label><div class=\"sk-toggleable__content\"><pre>LinearRegression()</pre></div></div></div></div></div>"
      ],
      "text/plain": [
       "LinearRegression()"
      ]
     },
     "execution_count": 58,
     "metadata": {},
     "output_type": "execute_result"
    }
   ],
   "source": [
    "model2 = LinearRegression()\n",
    "model2.fit(X_train, y_train)"
   ]
  },
  {
   "cell_type": "markdown",
   "metadata": {
    "id": "qNtgkv2vtPow"
   },
   "source": [
    "### Training Metrics"
   ]
  },
  {
   "cell_type": "code",
   "execution_count": null,
   "metadata": {
    "id": "oD-Af_sXtPow",
    "outputId": "182d5815-8731-4cec-83c4-016b671c22ad"
   },
   "outputs": [
    {
     "name": "stdout",
     "output_type": "stream",
     "text": [
      "Weighted zero-mean R^2 score: 0.005169046045009118\n"
     ]
    }
   ],
   "source": [
    "# Predict on the training set\n",
    "y_train_pred = model2.predict(X_train)\n",
    "\n",
    "# Calculate zero-mean R2\n",
    "weights_train = df.loc[y_train.index, 'weight']\n",
    "y_train_mean_adjusted = y_train - np.mean(y_train)\n",
    "y_train_pred_mean_adjusted = y_train_pred - np.mean(y_train_pred)\n",
    "weighted_r2 = r2_score(y_train_mean_adjusted, y_train_pred_mean_adjusted, sample_weight=weights_train)\n",
    "\n",
    "print(f\"Weighted zero-mean R^2 score: {weighted_r2}\")"
   ]
  },
  {
   "cell_type": "markdown",
   "metadata": {
    "id": "bCI0MWcKtPow"
   },
   "source": [
    "### Validation Metrics"
   ]
  },
  {
   "cell_type": "code",
   "execution_count": null,
   "metadata": {
    "id": "3uxqHzBVtPow"
   },
   "outputs": [],
   "source": [
    "# Predict on validation set\n",
    "y_pred = model2.predict(X_val)\n",
    "\n",
    "weights_val = df.loc[y_val.index, 'weight']"
   ]
  },
  {
   "cell_type": "code",
   "execution_count": null,
   "metadata": {
    "id": "MioO924utPow",
    "outputId": "83e423f7-d33d-4451-da3a-aee4f92516ac"
   },
   "outputs": [
    {
     "name": "stdout",
     "output_type": "stream",
     "text": [
      "Weighted zero-mean R^2 score: 0.004647004363416918\n"
     ]
    }
   ],
   "source": [
    "# Calculate zero-mean R2\n",
    "y_val_mean_adjusted = y_val - np.mean(y_val)\n",
    "y_pred_mean_adjusted = y_pred - np.mean(y_pred)\n",
    "weighted_r2 = r2_score(y_val_mean_adjusted, y_pred_mean_adjusted, sample_weight=weights_val)\n",
    "\n",
    "print(f\"Weighted zero-mean R^2 score: {weighted_r2}\")"
   ]
  },
  {
   "cell_type": "markdown",
   "metadata": {
    "id": "qkNcoxbrtPox"
   },
   "source": [
    "## Summary\n",
    "\n",
    "The negative R-square of regression with polynomila kernel indicates that out model's performance is slightly worse than simply predicting the mean of the target variable for all observations.\n",
    "\n",
    "The model does not fit the data well. It's not capturing the variance in the target variable effectively. We will try other method of feature transformation later.\n",
    "\n",
    "One possible reason is that the model is overfitting because after the . We will add regularizaions later.\n",
    "\n",
    "We might consider selecting a subset of the most informative features or performing feature engineering to derive new features that better capture the relationships in the data."
   ]
  },
  {
   "cell_type": "markdown",
   "metadata": {
    "id": "s_OQP9DwtPox"
   },
   "source": [
    "## RBF Kernel + Linear Regression + Regularization\n",
    "\n",
    "We tried RBF Kernel. But my computer kernel always stops and we have not enough computational power to try RBF Kernel. Thus, I resample the data again to cut the size."
   ]
  },
  {
   "cell_type": "code",
   "execution_count": null,
   "metadata": {
    "id": "p9ip7Qqa0Esq"
   },
   "outputs": [],
   "source": [
    "small_df = df.groupby('date_id').sample(frac = 0.1).reset_index(drop=True)"
   ]
  },
  {
   "cell_type": "code",
   "execution_count": null,
   "metadata": {
    "id": "HNW8ytu70Pol"
   },
   "outputs": [],
   "source": [
    "features_s = small_df[[f\"feature_{i:02}\" for i in range(79)]]\n",
    "target_s = small_df['responder_6']"
   ]
  },
  {
   "cell_type": "code",
   "execution_count": null,
   "metadata": {
    "id": "xNTgH2FBtPox"
   },
   "outputs": [],
   "source": [
    "alphas = [0.1, 0.5, 1.0, 5, 10, 100, 1000, 10000]\n",
    "training_r2_scores = []\n",
    "validation_r2_scores = []"
   ]
  },
  {
   "cell_type": "code",
   "execution_count": null,
   "metadata": {
    "id": "hCJ6mDi00aSG"
   },
   "outputs": [],
   "source": [
    "X_train_s, X_val_s, y_train_s, y_val_s = train_test_split(features_s, target_s, test_size=0.2, random_state=42)"
   ]
  },
  {
   "cell_type": "markdown",
   "metadata": {
    "id": "h61oyesCyBIW"
   },
   "source": []
  },
  {
   "cell_type": "code",
   "execution_count": null,
   "metadata": {
    "id": "5491Xd8dtPox"
   },
   "outputs": [],
   "source": [
    "for alpha in alphas:\n",
    "    # Create the Kernel Ridge Regression model\n",
    "    krr = KernelRidge(alpha=alpha, kernel='rbf')\n",
    "\n",
    "    # Fit the model on the training data\n",
    "    krr.fit(X_train_s, y_train_s)\n",
    "\n",
    "    # Calculate the training R^2 score\n",
    "    training_r2 = krr.score(X_train_s, y_train_s)\n",
    "    training_r2_scores.append(training_r2)\n",
    "\n",
    "    # Calculate the validation R^2 score\n",
    "    validation_r2 = krr.score(X_val_s, y_val_s)\n",
    "    validation_r2_scores.append(validation_r2)"
   ]
  },
  {
   "cell_type": "code",
   "execution_count": null,
   "metadata": {
    "colab": {
     "base_uri": "https://localhost:8080/"
    },
    "id": "TYEPKKE6zkZj",
    "outputId": "b4b9b216-2928-46db-ab85-7a5ac442387e"
   },
   "outputs": [
    {
     "data": {
      "text/plain": [
       "[0.02028360077926905,\n",
       " 0.01136098620102366,\n",
       " 0.009592861359291383,\n",
       " 0.007052100092531544,\n",
       " 0.005927682689489289,\n",
       " 0.0018601512315888913,\n",
       " 0.000270842785747738,\n",
       " 2.877759926278589e-05]"
      ]
     },
     "execution_count": 9,
     "metadata": {},
     "output_type": "execute_result"
    }
   ],
   "source": [
    "training_r2_scores"
   ]
  },
  {
   "cell_type": "code",
   "execution_count": null,
   "metadata": {
    "colab": {
     "base_uri": "https://localhost:8080/"
    },
    "id": "-Nn4-k3264nY",
    "outputId": "0edad637-ec0a-4fc5-d61b-b8bbff66008c"
   },
   "outputs": [
    {
     "data": {
      "text/plain": [
       "[0.0009565291051248925,\n",
       " 0.0008854032613194729,\n",
       " 0.0010282174795011034,\n",
       " 0.0018176982207458448,\n",
       " 0.001963695100611673,\n",
       " 0.0007685488526061324,\n",
       " -3.317062165208995e-05,\n",
       " -0.00017040520210276355]"
      ]
     },
     "execution_count": 10,
     "metadata": {},
     "output_type": "execute_result"
    }
   ],
   "source": [
    "validation_r2_scores"
   ]
  },
  {
   "cell_type": "code",
   "execution_count": null,
   "metadata": {
    "colab": {
     "base_uri": "https://localhost:8080/",
     "height": 544
    },
    "id": "7KM1KflF67Nr",
    "outputId": "656d053c-d4a0-46b3-c093-058704621e28"
   },
   "outputs": [
    {
     "data": {
      "image/png": "[encoded data removed]",
      "text/plain": [
       "<Figure size 1000x600 with 1 Axes>"
      ]
     },
     "metadata": {},
     "output_type": "display_data"
    }
   ],
   "source": [
    "plt.figure(figsize=(10, 6))\n",
    "plt.plot(alphas, training_r2_scores, marker='o', label='Training $R^2$')\n",
    "plt.plot(alphas, validation_r2_scores, marker='s', label='Validation $R^2$')\n",
    "plt.xscale('log')  # Setting x-axis to logarithmic scale due to wide range of alphas\n",
    "plt.xlabel('Alpha')\n",
    "plt.ylabel('$R^2$ Score')\n",
    "plt.title('Training and Validation $R^2$ Scores by Alpha')\n",
    "plt.legend()\n",
    "plt.grid(True)\n",
    "plt.show()"
   ]
  },
  {
   "cell_type": "markdown",
   "metadata": {
    "id": "j_ifF0_h6S82"
   },
   "source": [
    "# Summary\n",
    "\n",
    "We can see that RBF Kernel with Ridge Regression definitely have a better performance than polynomial kernel. With alpha values we tried, we can observe an overfitting at first and the best alpha value is 10. However, we always get a under fitting result so we need to have more complex method to catch the trend of the data"
   ]
  },
  {
   "cell_type": "markdown",
   "metadata": {
    "id": "EWipNzDr6tX-"
   },
   "source": [
    "## PCA + Linear Regression + Regularizaiton"
   ]
  },
  {
   "cell_type": "code",
   "execution_count": 21,
   "metadata": {
    "id": "Wv3_4QkY6jKB"
   },
   "outputs": [],
   "source": [
    "pca = PCA(n_components='mle')  # 'mle' automatically selects the number of components\n",
    "X_train_pca = pca.fit_transform(X_train)\n",
    "X_val_pca = pca.transform(X_val)"
   ]
  },
  {
   "cell_type": "code",
   "execution_count": 22,
   "metadata": {
    "id": "kyFpUdIK6zmt"
   },
   "outputs": [],
   "source": [
    "alphas = [0.01, 0.1, 0.5, 1.0, 5, 10, 100, 1000, 10000]"
   ]
  },
  {
   "cell_type": "code",
   "execution_count": 23,
   "metadata": {
    "colab": {
     "base_uri": "https://localhost:8080/"
    },
    "id": "y38TVg9g7CBJ",
    "outputId": "29a9dc09-d580-43e0-82b4-56e32f7351df"
   },
   "outputs": [
    {
     "name": "stdout",
     "output_type": "stream",
     "text": [
      "Alpha: 0.0100 -> Training R^2: 0.007, Validation R^2: 0.006\n",
      "Alpha: 0.1000 -> Training R^2: 0.007, Validation R^2: 0.006\n",
      "Alpha: 0.5000 -> Training R^2: 0.007, Validation R^2: 0.006\n",
      "Alpha: 1.0000 -> Training R^2: 0.007, Validation R^2: 0.006\n",
      "Alpha: 5.0000 -> Training R^2: 0.007, Validation R^2: 0.006\n",
      "Alpha: 10.0000 -> Training R^2: 0.007, Validation R^2: 0.006\n",
      "Alpha: 100.0000 -> Training R^2: 0.007, Validation R^2: 0.006\n",
      "Alpha: 1000.0000 -> Training R^2: 0.005, Validation R^2: 0.005\n",
      "Alpha: 10000.0000 -> Training R^2: 0.002, Validation R^2: 0.002\n"
     ]
    }
   ],
   "source": [
    "train_r2_scores = []\n",
    "val_r2_scores = []\n",
    "\n",
    "# Loop over alpha values to train and evaluate the Ridge model\n",
    "for alpha in alphas:\n",
    "    ridge = Ridge(alpha=alpha)\n",
    "    ridge.fit(X_train_pca, y_train)\n",
    "    train_r2 = r2_score(y_train, ridge.predict(X_train_pca))\n",
    "    val_r2 = r2_score(y_val, ridge.predict(X_val_pca))\n",
    "    train_r2_scores.append(train_r2)\n",
    "    val_r2_scores.append(val_r2)\n",
    "    print(f\"Alpha: {alpha:.4f} -> Training R^2: {train_r2:.3f}, Validation R^2: {val_r2:.3f}\")\n"
   ]
  },
  {
   "cell_type": "code",
   "execution_count": 24,
   "metadata": {
    "colab": {
     "base_uri": "https://localhost:8080/",
     "height": 569
    },
    "id": "BhCULSHZ8ovE",
    "outputId": "e7a9a6e1-99ec-402a-bfcd-9bc2ae46a6b0"
   },
   "outputs": [
    {
     "data": {
      "image/png": "[encoded data removed]",
      "text/plain": [
       "<Figure size 1000x600 with 1 Axes>"
      ]
     },
     "metadata": {},
     "output_type": "display_data"
    }
   ],
   "source": [
    "plt.figure(figsize=(10, 6))\n",
    "plt.semilogx(alphas, train_r2_scores, label='Train R²')\n",
    "plt.semilogx(alphas, val_r2_scores, color='red', label='Validation R²')\n",
    "plt.xlabel('Alpha')\n",
    "plt.ylabel('R² score')\n",
    "plt.title('R² Score by Alpha for Ridge Regression')\n",
    "plt.legend()\n",
    "plt.show()"
   ]
  },
  {
   "cell_type": "code",
   "execution_count": 18,
   "metadata": {
    "colab": {
     "base_uri": "https://localhost:8080/"
    },
    "id": "VA9IbpXd7HXy",
    "outputId": "c17b032a-d618-48a3-958e-1f79f256c5c5"
   },
   "outputs": [
    {
     "data": {
      "text/plain": [
       "77"
      ]
     },
     "execution_count": 18,
     "metadata": {},
     "output_type": "execute_result"
    }
   ],
   "source": [
    "len(pca.explained_variance_)"
   ]
  },
  {
   "cell_type": "code",
   "execution_count": 20,
   "metadata": {
    "colab": {
     "base_uri": "https://localhost:8080/"
    },
    "id": "060QFsI-7rGD",
    "outputId": "9e69adc1-b505-4bde-c5b1-a3ff1c4fe2b9"
   },
   "outputs": [
    {
     "name": "stdout",
     "output_type": "stream",
     "text": [
      "# of components: 1\n",
      "--------\n",
      "Alpha: 0.0100 -> Training R^2: 0.000, Validation R^2: 0.000\n",
      "Alpha: 0.1000 -> Training R^2: 0.000, Validation R^2: 0.000\n",
      "Alpha: 0.5000 -> Training R^2: 0.000, Validation R^2: 0.000\n",
      "Alpha: 1.0000 -> Training R^2: 0.000, Validation R^2: 0.000\n",
      "Alpha: 5.0000 -> Training R^2: 0.000, Validation R^2: 0.000\n",
      "Alpha: 10.0000 -> Training R^2: 0.000, Validation R^2: 0.000\n",
      "Alpha: 100.0000 -> Training R^2: 0.000, Validation R^2: 0.000\n",
      "Alpha: 1000.0000 -> Training R^2: 0.000, Validation R^2: 0.000\n",
      "Alpha: 10000.0000 -> Training R^2: 0.000, Validation R^2: 0.000\n",
      "# of components: 2\n",
      "--------\n",
      "Alpha: 0.0100 -> Training R^2: 0.000, Validation R^2: 0.000\n",
      "Alpha: 0.1000 -> Training R^2: 0.000, Validation R^2: 0.000\n",
      "Alpha: 0.5000 -> Training R^2: 0.000, Validation R^2: 0.000\n",
      "Alpha: 1.0000 -> Training R^2: 0.000, Validation R^2: 0.000\n",
      "Alpha: 5.0000 -> Training R^2: 0.000, Validation R^2: 0.000\n",
      "Alpha: 10.0000 -> Training R^2: 0.000, Validation R^2: 0.000\n",
      "Alpha: 100.0000 -> Training R^2: 0.000, Validation R^2: 0.000\n",
      "Alpha: 1000.0000 -> Training R^2: 0.000, Validation R^2: 0.000\n",
      "Alpha: 10000.0000 -> Training R^2: 0.000, Validation R^2: 0.000\n",
      "# of components: 3\n",
      "--------\n",
      "Alpha: 0.0100 -> Training R^2: 0.000, Validation R^2: 0.000\n",
      "Alpha: 0.1000 -> Training R^2: 0.000, Validation R^2: 0.000\n",
      "Alpha: 0.5000 -> Training R^2: 0.000, Validation R^2: 0.000\n",
      "Alpha: 1.0000 -> Training R^2: 0.000, Validation R^2: 0.000\n",
      "Alpha: 5.0000 -> Training R^2: 0.000, Validation R^2: 0.000\n",
      "Alpha: 10.0000 -> Training R^2: 0.000, Validation R^2: 0.000\n",
      "Alpha: 100.0000 -> Training R^2: 0.000, Validation R^2: 0.000\n",
      "Alpha: 1000.0000 -> Training R^2: 0.000, Validation R^2: 0.000\n",
      "Alpha: 10000.0000 -> Training R^2: 0.000, Validation R^2: 0.000\n",
      "# of components: 4\n",
      "--------\n",
      "Alpha: 0.0100 -> Training R^2: 0.000, Validation R^2: 0.000\n",
      "Alpha: 0.1000 -> Training R^2: 0.000, Validation R^2: 0.000\n",
      "Alpha: 0.5000 -> Training R^2: 0.000, Validation R^2: 0.000\n",
      "Alpha: 1.0000 -> Training R^2: 0.000, Validation R^2: 0.000\n",
      "Alpha: 5.0000 -> Training R^2: 0.000, Validation R^2: 0.000\n",
      "Alpha: 10.0000 -> Training R^2: 0.000, Validation R^2: 0.000\n",
      "Alpha: 100.0000 -> Training R^2: 0.000, Validation R^2: 0.000\n",
      "Alpha: 1000.0000 -> Training R^2: 0.000, Validation R^2: 0.000\n",
      "Alpha: 10000.0000 -> Training R^2: 0.000, Validation R^2: 0.000\n",
      "# of components: 5\n",
      "--------\n",
      "Alpha: 0.0100 -> Training R^2: 0.001, Validation R^2: 0.001\n",
      "Alpha: 0.1000 -> Training R^2: 0.001, Validation R^2: 0.001\n",
      "Alpha: 0.5000 -> Training R^2: 0.001, Validation R^2: 0.001\n",
      "Alpha: 1.0000 -> Training R^2: 0.001, Validation R^2: 0.001\n",
      "Alpha: 5.0000 -> Training R^2: 0.001, Validation R^2: 0.001\n",
      "Alpha: 10.0000 -> Training R^2: 0.001, Validation R^2: 0.001\n",
      "Alpha: 100.0000 -> Training R^2: 0.001, Validation R^2: 0.001\n",
      "Alpha: 1000.0000 -> Training R^2: 0.001, Validation R^2: 0.001\n",
      "Alpha: 10000.0000 -> Training R^2: 0.000, Validation R^2: 0.000\n",
      "# of components: 6\n",
      "--------\n",
      "Alpha: 0.0100 -> Training R^2: 0.001, Validation R^2: 0.001\n",
      "Alpha: 0.1000 -> Training R^2: 0.001, Validation R^2: 0.001\n",
      "Alpha: 0.5000 -> Training R^2: 0.001, Validation R^2: 0.001\n",
      "Alpha: 1.0000 -> Training R^2: 0.001, Validation R^2: 0.001\n",
      "Alpha: 5.0000 -> Training R^2: 0.001, Validation R^2: 0.001\n",
      "Alpha: 10.0000 -> Training R^2: 0.001, Validation R^2: 0.001\n",
      "Alpha: 100.0000 -> Training R^2: 0.001, Validation R^2: 0.001\n",
      "Alpha: 1000.0000 -> Training R^2: 0.001, Validation R^2: 0.001\n",
      "Alpha: 10000.0000 -> Training R^2: 0.000, Validation R^2: 0.000\n",
      "# of components: 7\n",
      "--------\n",
      "Alpha: 0.0100 -> Training R^2: 0.001, Validation R^2: 0.001\n",
      "Alpha: 0.1000 -> Training R^2: 0.001, Validation R^2: 0.001\n",
      "Alpha: 0.5000 -> Training R^2: 0.001, Validation R^2: 0.001\n",
      "Alpha: 1.0000 -> Training R^2: 0.001, Validation R^2: 0.001\n",
      "Alpha: 5.0000 -> Training R^2: 0.001, Validation R^2: 0.001\n",
      "Alpha: 10.0000 -> Training R^2: 0.001, Validation R^2: 0.001\n",
      "Alpha: 100.0000 -> Training R^2: 0.001, Validation R^2: 0.001\n",
      "Alpha: 1000.0000 -> Training R^2: 0.001, Validation R^2: 0.001\n",
      "Alpha: 10000.0000 -> Training R^2: 0.001, Validation R^2: 0.000\n",
      "# of components: 8\n",
      "--------\n",
      "Alpha: 0.0100 -> Training R^2: 0.001, Validation R^2: 0.001\n",
      "Alpha: 0.1000 -> Training R^2: 0.001, Validation R^2: 0.001\n",
      "Alpha: 0.5000 -> Training R^2: 0.001, Validation R^2: 0.001\n",
      "Alpha: 1.0000 -> Training R^2: 0.001, Validation R^2: 0.001\n",
      "Alpha: 5.0000 -> Training R^2: 0.001, Validation R^2: 0.001\n",
      "Alpha: 10.0000 -> Training R^2: 0.001, Validation R^2: 0.001\n",
      "Alpha: 100.0000 -> Training R^2: 0.001, Validation R^2: 0.001\n",
      "Alpha: 1000.0000 -> Training R^2: 0.001, Validation R^2: 0.001\n",
      "Alpha: 10000.0000 -> Training R^2: 0.001, Validation R^2: 0.000\n",
      "# of components: 9\n",
      "--------\n",
      "Alpha: 0.0100 -> Training R^2: 0.001, Validation R^2: 0.001\n",
      "Alpha: 0.1000 -> Training R^2: 0.001, Validation R^2: 0.001\n",
      "Alpha: 0.5000 -> Training R^2: 0.001, Validation R^2: 0.001\n",
      "Alpha: 1.0000 -> Training R^2: 0.001, Validation R^2: 0.001\n",
      "Alpha: 5.0000 -> Training R^2: 0.001, Validation R^2: 0.001\n",
      "Alpha: 10.0000 -> Training R^2: 0.001, Validation R^2: 0.001\n",
      "Alpha: 100.0000 -> Training R^2: 0.001, Validation R^2: 0.001\n",
      "Alpha: 1000.0000 -> Training R^2: 0.001, Validation R^2: 0.001\n",
      "Alpha: 10000.0000 -> Training R^2: 0.001, Validation R^2: 0.001\n",
      "# of components: 10\n",
      "--------\n",
      "Alpha: 0.0100 -> Training R^2: 0.001, Validation R^2: 0.001\n",
      "Alpha: 0.1000 -> Training R^2: 0.001, Validation R^2: 0.001\n",
      "Alpha: 0.5000 -> Training R^2: 0.001, Validation R^2: 0.001\n",
      "Alpha: 1.0000 -> Training R^2: 0.001, Validation R^2: 0.001\n",
      "Alpha: 5.0000 -> Training R^2: 0.001, Validation R^2: 0.001\n",
      "Alpha: 10.0000 -> Training R^2: 0.001, Validation R^2: 0.001\n",
      "Alpha: 100.0000 -> Training R^2: 0.001, Validation R^2: 0.001\n",
      "Alpha: 1000.0000 -> Training R^2: 0.001, Validation R^2: 0.001\n",
      "Alpha: 10000.0000 -> Training R^2: 0.001, Validation R^2: 0.001\n",
      "# of components: 11\n",
      "--------\n",
      "Alpha: 0.0100 -> Training R^2: 0.001, Validation R^2: 0.001\n",
      "Alpha: 0.1000 -> Training R^2: 0.001, Validation R^2: 0.001\n",
      "Alpha: 0.5000 -> Training R^2: 0.001, Validation R^2: 0.001\n",
      "Alpha: 1.0000 -> Training R^2: 0.001, Validation R^2: 0.001\n",
      "Alpha: 5.0000 -> Training R^2: 0.001, Validation R^2: 0.001\n",
      "Alpha: 10.0000 -> Training R^2: 0.001, Validation R^2: 0.001\n",
      "Alpha: 100.0000 -> Training R^2: 0.001, Validation R^2: 0.001\n",
      "Alpha: 1000.0000 -> Training R^2: 0.001, Validation R^2: 0.001\n",
      "Alpha: 10000.0000 -> Training R^2: 0.001, Validation R^2: 0.001\n",
      "# of components: 12\n",
      "--------\n",
      "Alpha: 0.0100 -> Training R^2: 0.002, Validation R^2: 0.002\n",
      "Alpha: 0.1000 -> Training R^2: 0.002, Validation R^2: 0.002\n",
      "Alpha: 0.5000 -> Training R^2: 0.002, Validation R^2: 0.002\n",
      "Alpha: 1.0000 -> Training R^2: 0.002, Validation R^2: 0.002\n",
      "Alpha: 5.0000 -> Training R^2: 0.002, Validation R^2: 0.002\n",
      "Alpha: 10.0000 -> Training R^2: 0.002, Validation R^2: 0.002\n",
      "Alpha: 100.0000 -> Training R^2: 0.002, Validation R^2: 0.002\n",
      "Alpha: 1000.0000 -> Training R^2: 0.002, Validation R^2: 0.002\n",
      "Alpha: 10000.0000 -> Training R^2: 0.001, Validation R^2: 0.001\n",
      "# of components: 13\n",
      "--------\n",
      "Alpha: 0.0100 -> Training R^2: 0.002, Validation R^2: 0.002\n",
      "Alpha: 0.1000 -> Training R^2: 0.002, Validation R^2: 0.002\n",
      "Alpha: 0.5000 -> Training R^2: 0.002, Validation R^2: 0.002\n",
      "Alpha: 1.0000 -> Training R^2: 0.002, Validation R^2: 0.002\n",
      "Alpha: 5.0000 -> Training R^2: 0.002, Validation R^2: 0.002\n",
      "Alpha: 10.0000 -> Training R^2: 0.002, Validation R^2: 0.002\n",
      "Alpha: 100.0000 -> Training R^2: 0.002, Validation R^2: 0.002\n",
      "Alpha: 1000.0000 -> Training R^2: 0.002, Validation R^2: 0.001\n",
      "Alpha: 10000.0000 -> Training R^2: 0.001, Validation R^2: 0.001\n",
      "# of components: 14\n",
      "--------\n",
      "Alpha: 0.0100 -> Training R^2: 0.002, Validation R^2: 0.002\n",
      "Alpha: 0.1000 -> Training R^2: 0.002, Validation R^2: 0.002\n",
      "Alpha: 0.5000 -> Training R^2: 0.002, Validation R^2: 0.002\n",
      "Alpha: 1.0000 -> Training R^2: 0.002, Validation R^2: 0.002\n",
      "Alpha: 5.0000 -> Training R^2: 0.002, Validation R^2: 0.002\n",
      "Alpha: 10.0000 -> Training R^2: 0.002, Validation R^2: 0.002\n",
      "Alpha: 100.0000 -> Training R^2: 0.002, Validation R^2: 0.002\n",
      "Alpha: 1000.0000 -> Training R^2: 0.002, Validation R^2: 0.002\n",
      "Alpha: 10000.0000 -> Training R^2: 0.001, Validation R^2: 0.001\n",
      "# of components: 15\n",
      "--------\n",
      "Alpha: 0.0100 -> Training R^2: 0.002, Validation R^2: 0.002\n",
      "Alpha: 0.1000 -> Training R^2: 0.002, Validation R^2: 0.002\n",
      "Alpha: 0.5000 -> Training R^2: 0.002, Validation R^2: 0.002\n",
      "Alpha: 1.0000 -> Training R^2: 0.002, Validation R^2: 0.002\n",
      "Alpha: 5.0000 -> Training R^2: 0.002, Validation R^2: 0.002\n",
      "Alpha: 10.0000 -> Training R^2: 0.002, Validation R^2: 0.002\n",
      "Alpha: 100.0000 -> Training R^2: 0.002, Validation R^2: 0.002\n",
      "Alpha: 1000.0000 -> Training R^2: 0.002, Validation R^2: 0.002\n",
      "Alpha: 10000.0000 -> Training R^2: 0.001, Validation R^2: 0.001\n",
      "# of components: 16\n",
      "--------\n",
      "Alpha: 0.0100 -> Training R^2: 0.002, Validation R^2: 0.002\n",
      "Alpha: 0.1000 -> Training R^2: 0.002, Validation R^2: 0.002\n",
      "Alpha: 0.5000 -> Training R^2: 0.002, Validation R^2: 0.002\n",
      "Alpha: 1.0000 -> Training R^2: 0.002, Validation R^2: 0.002\n",
      "Alpha: 5.0000 -> Training R^2: 0.002, Validation R^2: 0.002\n",
      "Alpha: 10.0000 -> Training R^2: 0.002, Validation R^2: 0.002\n",
      "Alpha: 100.0000 -> Training R^2: 0.002, Validation R^2: 0.002\n",
      "Alpha: 1000.0000 -> Training R^2: 0.002, Validation R^2: 0.002\n",
      "Alpha: 10000.0000 -> Training R^2: 0.001, Validation R^2: 0.001\n",
      "# of components: 17\n",
      "--------\n",
      "Alpha: 0.0100 -> Training R^2: 0.002, Validation R^2: 0.002\n",
      "Alpha: 0.1000 -> Training R^2: 0.002, Validation R^2: 0.002\n",
      "Alpha: 0.5000 -> Training R^2: 0.002, Validation R^2: 0.002\n",
      "Alpha: 1.0000 -> Training R^2: 0.002, Validation R^2: 0.002\n",
      "Alpha: 5.0000 -> Training R^2: 0.002, Validation R^2: 0.002\n",
      "Alpha: 10.0000 -> Training R^2: 0.002, Validation R^2: 0.002\n",
      "Alpha: 100.0000 -> Training R^2: 0.002, Validation R^2: 0.002\n",
      "Alpha: 1000.0000 -> Training R^2: 0.002, Validation R^2: 0.002\n",
      "Alpha: 10000.0000 -> Training R^2: 0.001, Validation R^2: 0.001\n",
      "# of components: 18\n",
      "--------\n",
      "Alpha: 0.0100 -> Training R^2: 0.002, Validation R^2: 0.002\n",
      "Alpha: 0.1000 -> Training R^2: 0.002, Validation R^2: 0.002\n",
      "Alpha: 0.5000 -> Training R^2: 0.002, Validation R^2: 0.002\n",
      "Alpha: 1.0000 -> Training R^2: 0.002, Validation R^2: 0.002\n",
      "Alpha: 5.0000 -> Training R^2: 0.002, Validation R^2: 0.002\n",
      "Alpha: 10.0000 -> Training R^2: 0.002, Validation R^2: 0.002\n",
      "Alpha: 100.0000 -> Training R^2: 0.002, Validation R^2: 0.002\n",
      "Alpha: 1000.0000 -> Training R^2: 0.002, Validation R^2: 0.002\n",
      "Alpha: 10000.0000 -> Training R^2: 0.001, Validation R^2: 0.001\n",
      "# of components: 19\n",
      "--------\n",
      "Alpha: 0.0100 -> Training R^2: 0.002, Validation R^2: 0.002\n",
      "Alpha: 0.1000 -> Training R^2: 0.002, Validation R^2: 0.002\n",
      "Alpha: 0.5000 -> Training R^2: 0.002, Validation R^2: 0.002\n",
      "Alpha: 1.0000 -> Training R^2: 0.002, Validation R^2: 0.002\n",
      "Alpha: 5.0000 -> Training R^2: 0.002, Validation R^2: 0.002\n",
      "Alpha: 10.0000 -> Training R^2: 0.002, Validation R^2: 0.002\n",
      "Alpha: 100.0000 -> Training R^2: 0.002, Validation R^2: 0.002\n",
      "Alpha: 1000.0000 -> Training R^2: 0.002, Validation R^2: 0.002\n",
      "Alpha: 10000.0000 -> Training R^2: 0.001, Validation R^2: 0.001\n",
      "# of components: 20\n",
      "--------\n",
      "Alpha: 0.0100 -> Training R^2: 0.003, Validation R^2: 0.002\n",
      "Alpha: 0.1000 -> Training R^2: 0.003, Validation R^2: 0.002\n",
      "Alpha: 0.5000 -> Training R^2: 0.003, Validation R^2: 0.002\n",
      "Alpha: 1.0000 -> Training R^2: 0.003, Validation R^2: 0.002\n",
      "Alpha: 5.0000 -> Training R^2: 0.003, Validation R^2: 0.002\n",
      "Alpha: 10.0000 -> Training R^2: 0.003, Validation R^2: 0.002\n",
      "Alpha: 100.0000 -> Training R^2: 0.003, Validation R^2: 0.002\n",
      "Alpha: 1000.0000 -> Training R^2: 0.002, Validation R^2: 0.002\n",
      "Alpha: 10000.0000 -> Training R^2: 0.001, Validation R^2: 0.001\n",
      "# of components: 21\n",
      "--------\n",
      "Alpha: 0.0100 -> Training R^2: 0.003, Validation R^2: 0.002\n",
      "Alpha: 0.1000 -> Training R^2: 0.003, Validation R^2: 0.002\n",
      "Alpha: 0.5000 -> Training R^2: 0.003, Validation R^2: 0.002\n",
      "Alpha: 1.0000 -> Training R^2: 0.003, Validation R^2: 0.002\n",
      "Alpha: 5.0000 -> Training R^2: 0.003, Validation R^2: 0.002\n",
      "Alpha: 10.0000 -> Training R^2: 0.003, Validation R^2: 0.002\n",
      "Alpha: 100.0000 -> Training R^2: 0.003, Validation R^2: 0.002\n",
      "Alpha: 1000.0000 -> Training R^2: 0.002, Validation R^2: 0.002\n",
      "Alpha: 10000.0000 -> Training R^2: 0.001, Validation R^2: 0.001\n",
      "# of components: 22\n",
      "--------\n",
      "Alpha: 0.0100 -> Training R^2: 0.003, Validation R^2: 0.002\n",
      "Alpha: 0.1000 -> Training R^2: 0.003, Validation R^2: 0.002\n",
      "Alpha: 0.5000 -> Training R^2: 0.003, Validation R^2: 0.002\n",
      "Alpha: 1.0000 -> Training R^2: 0.003, Validation R^2: 0.002\n",
      "Alpha: 5.0000 -> Training R^2: 0.003, Validation R^2: 0.002\n",
      "Alpha: 10.0000 -> Training R^2: 0.003, Validation R^2: 0.002\n",
      "Alpha: 100.0000 -> Training R^2: 0.003, Validation R^2: 0.002\n",
      "Alpha: 1000.0000 -> Training R^2: 0.002, Validation R^2: 0.002\n",
      "Alpha: 10000.0000 -> Training R^2: 0.001, Validation R^2: 0.001\n",
      "# of components: 23\n",
      "--------\n",
      "Alpha: 0.0100 -> Training R^2: 0.004, Validation R^2: 0.004\n",
      "Alpha: 0.1000 -> Training R^2: 0.004, Validation R^2: 0.004\n",
      "Alpha: 0.5000 -> Training R^2: 0.004, Validation R^2: 0.004\n",
      "Alpha: 1.0000 -> Training R^2: 0.004, Validation R^2: 0.004\n",
      "Alpha: 5.0000 -> Training R^2: 0.004, Validation R^2: 0.004\n",
      "Alpha: 10.0000 -> Training R^2: 0.004, Validation R^2: 0.004\n",
      "Alpha: 100.0000 -> Training R^2: 0.004, Validation R^2: 0.004\n",
      "Alpha: 1000.0000 -> Training R^2: 0.003, Validation R^2: 0.003\n",
      "Alpha: 10000.0000 -> Training R^2: 0.001, Validation R^2: 0.001\n",
      "# of components: 24\n",
      "--------\n",
      "Alpha: 0.0100 -> Training R^2: 0.004, Validation R^2: 0.004\n",
      "Alpha: 0.1000 -> Training R^2: 0.004, Validation R^2: 0.004\n",
      "Alpha: 0.5000 -> Training R^2: 0.004, Validation R^2: 0.004\n",
      "Alpha: 1.0000 -> Training R^2: 0.004, Validation R^2: 0.004\n",
      "Alpha: 5.0000 -> Training R^2: 0.004, Validation R^2: 0.004\n",
      "Alpha: 10.0000 -> Training R^2: 0.004, Validation R^2: 0.004\n",
      "Alpha: 100.0000 -> Training R^2: 0.004, Validation R^2: 0.004\n",
      "Alpha: 1000.0000 -> Training R^2: 0.004, Validation R^2: 0.004\n",
      "Alpha: 10000.0000 -> Training R^2: 0.002, Validation R^2: 0.001\n",
      "# of components: 25\n",
      "--------\n",
      "Alpha: 0.0100 -> Training R^2: 0.005, Validation R^2: 0.004\n",
      "Alpha: 0.1000 -> Training R^2: 0.005, Validation R^2: 0.004\n",
      "Alpha: 0.5000 -> Training R^2: 0.005, Validation R^2: 0.004\n",
      "Alpha: 1.0000 -> Training R^2: 0.005, Validation R^2: 0.004\n",
      "Alpha: 5.0000 -> Training R^2: 0.005, Validation R^2: 0.004\n",
      "Alpha: 10.0000 -> Training R^2: 0.005, Validation R^2: 0.004\n",
      "Alpha: 100.0000 -> Training R^2: 0.005, Validation R^2: 0.004\n",
      "Alpha: 1000.0000 -> Training R^2: 0.004, Validation R^2: 0.004\n",
      "Alpha: 10000.0000 -> Training R^2: 0.002, Validation R^2: 0.001\n",
      "# of components: 26\n",
      "--------\n",
      "Alpha: 0.0100 -> Training R^2: 0.005, Validation R^2: 0.004\n",
      "Alpha: 0.1000 -> Training R^2: 0.005, Validation R^2: 0.004\n",
      "Alpha: 0.5000 -> Training R^2: 0.005, Validation R^2: 0.004\n",
      "Alpha: 1.0000 -> Training R^2: 0.005, Validation R^2: 0.004\n",
      "Alpha: 5.0000 -> Training R^2: 0.005, Validation R^2: 0.004\n",
      "Alpha: 10.0000 -> Training R^2: 0.005, Validation R^2: 0.004\n",
      "Alpha: 100.0000 -> Training R^2: 0.005, Validation R^2: 0.004\n",
      "Alpha: 1000.0000 -> Training R^2: 0.004, Validation R^2: 0.004\n",
      "Alpha: 10000.0000 -> Training R^2: 0.002, Validation R^2: 0.001\n",
      "# of components: 27\n",
      "--------\n",
      "Alpha: 0.0100 -> Training R^2: 0.005, Validation R^2: 0.004\n",
      "Alpha: 0.1000 -> Training R^2: 0.005, Validation R^2: 0.004\n",
      "Alpha: 0.5000 -> Training R^2: 0.005, Validation R^2: 0.004\n",
      "Alpha: 1.0000 -> Training R^2: 0.005, Validation R^2: 0.004\n",
      "Alpha: 5.0000 -> Training R^2: 0.005, Validation R^2: 0.004\n",
      "Alpha: 10.0000 -> Training R^2: 0.005, Validation R^2: 0.004\n",
      "Alpha: 100.0000 -> Training R^2: 0.005, Validation R^2: 0.004\n",
      "Alpha: 1000.0000 -> Training R^2: 0.004, Validation R^2: 0.004\n",
      "Alpha: 10000.0000 -> Training R^2: 0.002, Validation R^2: 0.001\n",
      "# of components: 28\n",
      "--------\n",
      "Alpha: 0.0100 -> Training R^2: 0.005, Validation R^2: 0.004\n",
      "Alpha: 0.1000 -> Training R^2: 0.005, Validation R^2: 0.004\n",
      "Alpha: 0.5000 -> Training R^2: 0.005, Validation R^2: 0.004\n",
      "Alpha: 1.0000 -> Training R^2: 0.005, Validation R^2: 0.004\n",
      "Alpha: 5.0000 -> Training R^2: 0.005, Validation R^2: 0.004\n",
      "Alpha: 10.0000 -> Training R^2: 0.005, Validation R^2: 0.004\n",
      "Alpha: 100.0000 -> Training R^2: 0.005, Validation R^2: 0.004\n",
      "Alpha: 1000.0000 -> Training R^2: 0.004, Validation R^2: 0.004\n",
      "Alpha: 10000.0000 -> Training R^2: 0.002, Validation R^2: 0.001\n",
      "# of components: 29\n",
      "--------\n",
      "Alpha: 0.0100 -> Training R^2: 0.005, Validation R^2: 0.004\n",
      "Alpha: 0.1000 -> Training R^2: 0.005, Validation R^2: 0.004\n",
      "Alpha: 0.5000 -> Training R^2: 0.005, Validation R^2: 0.004\n",
      "Alpha: 1.0000 -> Training R^2: 0.005, Validation R^2: 0.004\n",
      "Alpha: 5.0000 -> Training R^2: 0.005, Validation R^2: 0.004\n",
      "Alpha: 10.0000 -> Training R^2: 0.005, Validation R^2: 0.004\n",
      "Alpha: 100.0000 -> Training R^2: 0.005, Validation R^2: 0.004\n",
      "Alpha: 1000.0000 -> Training R^2: 0.004, Validation R^2: 0.004\n",
      "Alpha: 10000.0000 -> Training R^2: 0.002, Validation R^2: 0.001\n",
      "# of components: 30\n",
      "--------\n",
      "Alpha: 0.0100 -> Training R^2: 0.006, Validation R^2: 0.005\n",
      "Alpha: 0.1000 -> Training R^2: 0.006, Validation R^2: 0.005\n",
      "Alpha: 0.5000 -> Training R^2: 0.006, Validation R^2: 0.005\n",
      "Alpha: 1.0000 -> Training R^2: 0.006, Validation R^2: 0.005\n",
      "Alpha: 5.0000 -> Training R^2: 0.006, Validation R^2: 0.005\n",
      "Alpha: 10.0000 -> Training R^2: 0.006, Validation R^2: 0.005\n",
      "Alpha: 100.0000 -> Training R^2: 0.006, Validation R^2: 0.005\n",
      "Alpha: 1000.0000 -> Training R^2: 0.005, Validation R^2: 0.004\n",
      "Alpha: 10000.0000 -> Training R^2: 0.002, Validation R^2: 0.002\n",
      "# of components: 31\n",
      "--------\n",
      "Alpha: 0.0100 -> Training R^2: 0.006, Validation R^2: 0.005\n",
      "Alpha: 0.1000 -> Training R^2: 0.006, Validation R^2: 0.005\n",
      "Alpha: 0.5000 -> Training R^2: 0.006, Validation R^2: 0.005\n",
      "Alpha: 1.0000 -> Training R^2: 0.006, Validation R^2: 0.005\n",
      "Alpha: 5.0000 -> Training R^2: 0.006, Validation R^2: 0.005\n",
      "Alpha: 10.0000 -> Training R^2: 0.006, Validation R^2: 0.005\n",
      "Alpha: 100.0000 -> Training R^2: 0.006, Validation R^2: 0.005\n",
      "Alpha: 1000.0000 -> Training R^2: 0.005, Validation R^2: 0.004\n",
      "Alpha: 10000.0000 -> Training R^2: 0.002, Validation R^2: 0.002\n",
      "# of components: 32\n",
      "--------\n",
      "Alpha: 0.0100 -> Training R^2: 0.006, Validation R^2: 0.005\n",
      "Alpha: 0.1000 -> Training R^2: 0.006, Validation R^2: 0.005\n",
      "Alpha: 0.5000 -> Training R^2: 0.006, Validation R^2: 0.005\n",
      "Alpha: 1.0000 -> Training R^2: 0.006, Validation R^2: 0.005\n",
      "Alpha: 5.0000 -> Training R^2: 0.006, Validation R^2: 0.005\n",
      "Alpha: 10.0000 -> Training R^2: 0.006, Validation R^2: 0.005\n",
      "Alpha: 100.0000 -> Training R^2: 0.006, Validation R^2: 0.005\n",
      "Alpha: 1000.0000 -> Training R^2: 0.005, Validation R^2: 0.004\n",
      "Alpha: 10000.0000 -> Training R^2: 0.002, Validation R^2: 0.002\n",
      "# of components: 33\n",
      "--------\n",
      "Alpha: 0.0100 -> Training R^2: 0.006, Validation R^2: 0.005\n",
      "Alpha: 0.1000 -> Training R^2: 0.006, Validation R^2: 0.005\n",
      "Alpha: 0.5000 -> Training R^2: 0.006, Validation R^2: 0.005\n",
      "Alpha: 1.0000 -> Training R^2: 0.006, Validation R^2: 0.005\n",
      "Alpha: 5.0000 -> Training R^2: 0.006, Validation R^2: 0.005\n",
      "Alpha: 10.0000 -> Training R^2: 0.006, Validation R^2: 0.005\n",
      "Alpha: 100.0000 -> Training R^2: 0.006, Validation R^2: 0.005\n",
      "Alpha: 1000.0000 -> Training R^2: 0.005, Validation R^2: 0.005\n",
      "Alpha: 10000.0000 -> Training R^2: 0.002, Validation R^2: 0.002\n",
      "# of components: 34\n",
      "--------\n",
      "Alpha: 0.0100 -> Training R^2: 0.006, Validation R^2: 0.005\n",
      "Alpha: 0.1000 -> Training R^2: 0.006, Validation R^2: 0.005\n",
      "Alpha: 0.5000 -> Training R^2: 0.006, Validation R^2: 0.005\n",
      "Alpha: 1.0000 -> Training R^2: 0.006, Validation R^2: 0.005\n",
      "Alpha: 5.0000 -> Training R^2: 0.006, Validation R^2: 0.005\n",
      "Alpha: 10.0000 -> Training R^2: 0.006, Validation R^2: 0.005\n",
      "Alpha: 100.0000 -> Training R^2: 0.006, Validation R^2: 0.005\n",
      "Alpha: 1000.0000 -> Training R^2: 0.005, Validation R^2: 0.005\n",
      "Alpha: 10000.0000 -> Training R^2: 0.002, Validation R^2: 0.002\n",
      "# of components: 35\n",
      "--------\n",
      "Alpha: 0.0100 -> Training R^2: 0.006, Validation R^2: 0.005\n",
      "Alpha: 0.1000 -> Training R^2: 0.006, Validation R^2: 0.005\n",
      "Alpha: 0.5000 -> Training R^2: 0.006, Validation R^2: 0.005\n",
      "Alpha: 1.0000 -> Training R^2: 0.006, Validation R^2: 0.005\n",
      "Alpha: 5.0000 -> Training R^2: 0.006, Validation R^2: 0.005\n",
      "Alpha: 10.0000 -> Training R^2: 0.006, Validation R^2: 0.005\n",
      "Alpha: 100.0000 -> Training R^2: 0.006, Validation R^2: 0.005\n",
      "Alpha: 1000.0000 -> Training R^2: 0.005, Validation R^2: 0.005\n",
      "Alpha: 10000.0000 -> Training R^2: 0.002, Validation R^2: 0.002\n",
      "# of components: 36\n",
      "--------\n",
      "Alpha: 0.0100 -> Training R^2: 0.006, Validation R^2: 0.005\n",
      "Alpha: 0.1000 -> Training R^2: 0.006, Validation R^2: 0.005\n",
      "Alpha: 0.5000 -> Training R^2: 0.006, Validation R^2: 0.005\n",
      "Alpha: 1.0000 -> Training R^2: 0.006, Validation R^2: 0.005\n",
      "Alpha: 5.0000 -> Training R^2: 0.006, Validation R^2: 0.005\n",
      "Alpha: 10.0000 -> Training R^2: 0.006, Validation R^2: 0.005\n",
      "Alpha: 100.0000 -> Training R^2: 0.006, Validation R^2: 0.005\n",
      "Alpha: 1000.0000 -> Training R^2: 0.005, Validation R^2: 0.005\n",
      "Alpha: 10000.0000 -> Training R^2: 0.002, Validation R^2: 0.002\n",
      "# of components: 37\n",
      "--------\n",
      "Alpha: 0.0100 -> Training R^2: 0.006, Validation R^2: 0.005\n",
      "Alpha: 0.1000 -> Training R^2: 0.006, Validation R^2: 0.005\n",
      "Alpha: 0.5000 -> Training R^2: 0.006, Validation R^2: 0.005\n",
      "Alpha: 1.0000 -> Training R^2: 0.006, Validation R^2: 0.005\n",
      "Alpha: 5.0000 -> Training R^2: 0.006, Validation R^2: 0.005\n",
      "Alpha: 10.0000 -> Training R^2: 0.006, Validation R^2: 0.005\n",
      "Alpha: 100.0000 -> Training R^2: 0.006, Validation R^2: 0.005\n",
      "Alpha: 1000.0000 -> Training R^2: 0.005, Validation R^2: 0.005\n",
      "Alpha: 10000.0000 -> Training R^2: 0.002, Validation R^2: 0.002\n",
      "# of components: 38\n",
      "--------\n",
      "Alpha: 0.0100 -> Training R^2: 0.006, Validation R^2: 0.005\n",
      "Alpha: 0.1000 -> Training R^2: 0.006, Validation R^2: 0.005\n",
      "Alpha: 0.5000 -> Training R^2: 0.006, Validation R^2: 0.005\n",
      "Alpha: 1.0000 -> Training R^2: 0.006, Validation R^2: 0.005\n",
      "Alpha: 5.0000 -> Training R^2: 0.006, Validation R^2: 0.005\n",
      "Alpha: 10.0000 -> Training R^2: 0.006, Validation R^2: 0.005\n",
      "Alpha: 100.0000 -> Training R^2: 0.006, Validation R^2: 0.005\n",
      "Alpha: 1000.0000 -> Training R^2: 0.005, Validation R^2: 0.005\n",
      "Alpha: 10000.0000 -> Training R^2: 0.002, Validation R^2: 0.002\n",
      "# of components: 39\n",
      "--------\n",
      "Alpha: 0.0100 -> Training R^2: 0.006, Validation R^2: 0.005\n",
      "Alpha: 0.1000 -> Training R^2: 0.006, Validation R^2: 0.005\n",
      "Alpha: 0.5000 -> Training R^2: 0.006, Validation R^2: 0.005\n",
      "Alpha: 1.0000 -> Training R^2: 0.006, Validation R^2: 0.005\n",
      "Alpha: 5.0000 -> Training R^2: 0.006, Validation R^2: 0.005\n",
      "Alpha: 10.0000 -> Training R^2: 0.006, Validation R^2: 0.005\n",
      "Alpha: 100.0000 -> Training R^2: 0.006, Validation R^2: 0.005\n",
      "Alpha: 1000.0000 -> Training R^2: 0.005, Validation R^2: 0.005\n",
      "Alpha: 10000.0000 -> Training R^2: 0.002, Validation R^2: 0.002\n",
      "# of components: 40\n",
      "--------\n",
      "Alpha: 0.0100 -> Training R^2: 0.006, Validation R^2: 0.005\n",
      "Alpha: 0.1000 -> Training R^2: 0.006, Validation R^2: 0.005\n",
      "Alpha: 0.5000 -> Training R^2: 0.006, Validation R^2: 0.005\n",
      "Alpha: 1.0000 -> Training R^2: 0.006, Validation R^2: 0.005\n",
      "Alpha: 5.0000 -> Training R^2: 0.006, Validation R^2: 0.005\n",
      "Alpha: 10.0000 -> Training R^2: 0.006, Validation R^2: 0.005\n",
      "Alpha: 100.0000 -> Training R^2: 0.006, Validation R^2: 0.005\n",
      "Alpha: 1000.0000 -> Training R^2: 0.005, Validation R^2: 0.005\n",
      "Alpha: 10000.0000 -> Training R^2: 0.002, Validation R^2: 0.002\n",
      "# of components: 41\n",
      "--------\n",
      "Alpha: 0.0100 -> Training R^2: 0.006, Validation R^2: 0.005\n",
      "Alpha: 0.1000 -> Training R^2: 0.006, Validation R^2: 0.005\n",
      "Alpha: 0.5000 -> Training R^2: 0.006, Validation R^2: 0.005\n",
      "Alpha: 1.0000 -> Training R^2: 0.006, Validation R^2: 0.005\n",
      "Alpha: 5.0000 -> Training R^2: 0.006, Validation R^2: 0.005\n",
      "Alpha: 10.0000 -> Training R^2: 0.006, Validation R^2: 0.005\n",
      "Alpha: 100.0000 -> Training R^2: 0.006, Validation R^2: 0.005\n",
      "Alpha: 1000.0000 -> Training R^2: 0.005, Validation R^2: 0.005\n",
      "Alpha: 10000.0000 -> Training R^2: 0.002, Validation R^2: 0.002\n",
      "# of components: 42\n",
      "--------\n",
      "Alpha: 0.0100 -> Training R^2: 0.006, Validation R^2: 0.005\n",
      "Alpha: 0.1000 -> Training R^2: 0.006, Validation R^2: 0.005\n",
      "Alpha: 0.5000 -> Training R^2: 0.006, Validation R^2: 0.005\n",
      "Alpha: 1.0000 -> Training R^2: 0.006, Validation R^2: 0.005\n",
      "Alpha: 5.0000 -> Training R^2: 0.006, Validation R^2: 0.005\n",
      "Alpha: 10.0000 -> Training R^2: 0.006, Validation R^2: 0.005\n",
      "Alpha: 100.0000 -> Training R^2: 0.006, Validation R^2: 0.005\n",
      "Alpha: 1000.0000 -> Training R^2: 0.005, Validation R^2: 0.005\n",
      "Alpha: 10000.0000 -> Training R^2: 0.002, Validation R^2: 0.002\n",
      "# of components: 43\n",
      "--------\n",
      "Alpha: 0.0100 -> Training R^2: 0.006, Validation R^2: 0.005\n",
      "Alpha: 0.1000 -> Training R^2: 0.006, Validation R^2: 0.005\n",
      "Alpha: 0.5000 -> Training R^2: 0.006, Validation R^2: 0.005\n",
      "Alpha: 1.0000 -> Training R^2: 0.006, Validation R^2: 0.005\n",
      "Alpha: 5.0000 -> Training R^2: 0.006, Validation R^2: 0.005\n",
      "Alpha: 10.0000 -> Training R^2: 0.006, Validation R^2: 0.005\n",
      "Alpha: 100.0000 -> Training R^2: 0.006, Validation R^2: 0.005\n",
      "Alpha: 1000.0000 -> Training R^2: 0.005, Validation R^2: 0.005\n",
      "Alpha: 10000.0000 -> Training R^2: 0.002, Validation R^2: 0.002\n",
      "# of components: 44\n",
      "--------\n",
      "Alpha: 0.0100 -> Training R^2: 0.006, Validation R^2: 0.005\n",
      "Alpha: 0.1000 -> Training R^2: 0.006, Validation R^2: 0.005\n",
      "Alpha: 0.5000 -> Training R^2: 0.006, Validation R^2: 0.005\n",
      "Alpha: 1.0000 -> Training R^2: 0.006, Validation R^2: 0.005\n",
      "Alpha: 5.0000 -> Training R^2: 0.006, Validation R^2: 0.005\n",
      "Alpha: 10.0000 -> Training R^2: 0.006, Validation R^2: 0.005\n",
      "Alpha: 100.0000 -> Training R^2: 0.006, Validation R^2: 0.005\n",
      "Alpha: 1000.0000 -> Training R^2: 0.005, Validation R^2: 0.005\n",
      "Alpha: 10000.0000 -> Training R^2: 0.002, Validation R^2: 0.002\n",
      "# of components: 45\n",
      "--------\n",
      "Alpha: 0.0100 -> Training R^2: 0.006, Validation R^2: 0.005\n",
      "Alpha: 0.1000 -> Training R^2: 0.006, Validation R^2: 0.005\n",
      "Alpha: 0.5000 -> Training R^2: 0.006, Validation R^2: 0.005\n",
      "Alpha: 1.0000 -> Training R^2: 0.006, Validation R^2: 0.005\n",
      "Alpha: 5.0000 -> Training R^2: 0.006, Validation R^2: 0.005\n",
      "Alpha: 10.0000 -> Training R^2: 0.006, Validation R^2: 0.005\n",
      "Alpha: 100.0000 -> Training R^2: 0.006, Validation R^2: 0.005\n",
      "Alpha: 1000.0000 -> Training R^2: 0.005, Validation R^2: 0.005\n",
      "Alpha: 10000.0000 -> Training R^2: 0.002, Validation R^2: 0.002\n",
      "# of components: 46\n",
      "--------\n",
      "Alpha: 0.0100 -> Training R^2: 0.006, Validation R^2: 0.006\n",
      "Alpha: 0.1000 -> Training R^2: 0.006, Validation R^2: 0.006\n",
      "Alpha: 0.5000 -> Training R^2: 0.006, Validation R^2: 0.006\n",
      "Alpha: 1.0000 -> Training R^2: 0.006, Validation R^2: 0.006\n",
      "Alpha: 5.0000 -> Training R^2: 0.006, Validation R^2: 0.006\n",
      "Alpha: 10.0000 -> Training R^2: 0.006, Validation R^2: 0.006\n",
      "Alpha: 100.0000 -> Training R^2: 0.006, Validation R^2: 0.006\n",
      "Alpha: 1000.0000 -> Training R^2: 0.005, Validation R^2: 0.005\n",
      "Alpha: 10000.0000 -> Training R^2: 0.002, Validation R^2: 0.002\n",
      "# of components: 47\n",
      "--------\n",
      "Alpha: 0.0100 -> Training R^2: 0.006, Validation R^2: 0.005\n",
      "Alpha: 0.1000 -> Training R^2: 0.006, Validation R^2: 0.005\n",
      "Alpha: 0.5000 -> Training R^2: 0.006, Validation R^2: 0.005\n",
      "Alpha: 1.0000 -> Training R^2: 0.006, Validation R^2: 0.005\n",
      "Alpha: 5.0000 -> Training R^2: 0.006, Validation R^2: 0.005\n",
      "Alpha: 10.0000 -> Training R^2: 0.006, Validation R^2: 0.005\n",
      "Alpha: 100.0000 -> Training R^2: 0.006, Validation R^2: 0.005\n",
      "Alpha: 1000.0000 -> Training R^2: 0.005, Validation R^2: 0.005\n",
      "Alpha: 10000.0000 -> Training R^2: 0.002, Validation R^2: 0.002\n",
      "# of components: 48\n",
      "--------\n",
      "Alpha: 0.0100 -> Training R^2: 0.006, Validation R^2: 0.005\n",
      "Alpha: 0.1000 -> Training R^2: 0.006, Validation R^2: 0.005\n",
      "Alpha: 0.5000 -> Training R^2: 0.006, Validation R^2: 0.005\n",
      "Alpha: 1.0000 -> Training R^2: 0.006, Validation R^2: 0.005\n",
      "Alpha: 5.0000 -> Training R^2: 0.006, Validation R^2: 0.005\n",
      "Alpha: 10.0000 -> Training R^2: 0.006, Validation R^2: 0.005\n",
      "Alpha: 100.0000 -> Training R^2: 0.006, Validation R^2: 0.005\n",
      "Alpha: 1000.0000 -> Training R^2: 0.005, Validation R^2: 0.005\n",
      "Alpha: 10000.0000 -> Training R^2: 0.002, Validation R^2: 0.002\n",
      "# of components: 49\n",
      "--------\n",
      "Alpha: 0.0100 -> Training R^2: 0.006, Validation R^2: 0.006\n",
      "Alpha: 0.1000 -> Training R^2: 0.006, Validation R^2: 0.006\n",
      "Alpha: 0.5000 -> Training R^2: 0.006, Validation R^2: 0.006\n",
      "Alpha: 1.0000 -> Training R^2: 0.006, Validation R^2: 0.006\n",
      "Alpha: 5.0000 -> Training R^2: 0.006, Validation R^2: 0.006\n",
      "Alpha: 10.0000 -> Training R^2: 0.006, Validation R^2: 0.006\n",
      "Alpha: 100.0000 -> Training R^2: 0.006, Validation R^2: 0.006\n",
      "Alpha: 1000.0000 -> Training R^2: 0.005, Validation R^2: 0.005\n",
      "Alpha: 10000.0000 -> Training R^2: 0.002, Validation R^2: 0.002\n",
      "# of components: 50\n",
      "--------\n",
      "Alpha: 0.0100 -> Training R^2: 0.006, Validation R^2: 0.006\n",
      "Alpha: 0.1000 -> Training R^2: 0.006, Validation R^2: 0.006\n",
      "Alpha: 0.5000 -> Training R^2: 0.006, Validation R^2: 0.006\n",
      "Alpha: 1.0000 -> Training R^2: 0.006, Validation R^2: 0.006\n",
      "Alpha: 5.0000 -> Training R^2: 0.006, Validation R^2: 0.006\n",
      "Alpha: 10.0000 -> Training R^2: 0.006, Validation R^2: 0.006\n",
      "Alpha: 100.0000 -> Training R^2: 0.006, Validation R^2: 0.006\n",
      "Alpha: 1000.0000 -> Training R^2: 0.005, Validation R^2: 0.005\n",
      "Alpha: 10000.0000 -> Training R^2: 0.002, Validation R^2: 0.002\n",
      "# of components: 51\n",
      "--------\n",
      "Alpha: 0.0100 -> Training R^2: 0.006, Validation R^2: 0.005\n",
      "Alpha: 0.1000 -> Training R^2: 0.006, Validation R^2: 0.005\n",
      "Alpha: 0.5000 -> Training R^2: 0.006, Validation R^2: 0.005\n",
      "Alpha: 1.0000 -> Training R^2: 0.006, Validation R^2: 0.005\n",
      "Alpha: 5.0000 -> Training R^2: 0.006, Validation R^2: 0.005\n",
      "Alpha: 10.0000 -> Training R^2: 0.006, Validation R^2: 0.005\n",
      "Alpha: 100.0000 -> Training R^2: 0.006, Validation R^2: 0.005\n",
      "Alpha: 1000.0000 -> Training R^2: 0.005, Validation R^2: 0.005\n",
      "Alpha: 10000.0000 -> Training R^2: 0.002, Validation R^2: 0.002\n",
      "# of components: 52\n",
      "--------\n",
      "Alpha: 0.0100 -> Training R^2: 0.006, Validation R^2: 0.005\n",
      "Alpha: 0.1000 -> Training R^2: 0.006, Validation R^2: 0.005\n",
      "Alpha: 0.5000 -> Training R^2: 0.006, Validation R^2: 0.005\n",
      "Alpha: 1.0000 -> Training R^2: 0.006, Validation R^2: 0.005\n",
      "Alpha: 5.0000 -> Training R^2: 0.006, Validation R^2: 0.005\n",
      "Alpha: 10.0000 -> Training R^2: 0.006, Validation R^2: 0.005\n",
      "Alpha: 100.0000 -> Training R^2: 0.006, Validation R^2: 0.006\n",
      "Alpha: 1000.0000 -> Training R^2: 0.005, Validation R^2: 0.005\n",
      "Alpha: 10000.0000 -> Training R^2: 0.002, Validation R^2: 0.002\n",
      "# of components: 53\n",
      "--------\n",
      "Alpha: 0.0100 -> Training R^2: 0.006, Validation R^2: 0.006\n",
      "Alpha: 0.1000 -> Training R^2: 0.006, Validation R^2: 0.006\n",
      "Alpha: 0.5000 -> Training R^2: 0.006, Validation R^2: 0.006\n",
      "Alpha: 1.0000 -> Training R^2: 0.006, Validation R^2: 0.006\n",
      "Alpha: 5.0000 -> Training R^2: 0.006, Validation R^2: 0.006\n",
      "Alpha: 10.0000 -> Training R^2: 0.006, Validation R^2: 0.006\n",
      "Alpha: 100.0000 -> Training R^2: 0.006, Validation R^2: 0.006\n",
      "Alpha: 1000.0000 -> Training R^2: 0.005, Validation R^2: 0.005\n",
      "Alpha: 10000.0000 -> Training R^2: 0.002, Validation R^2: 0.002\n",
      "# of components: 54\n",
      "--------\n",
      "Alpha: 0.0100 -> Training R^2: 0.006, Validation R^2: 0.006\n",
      "Alpha: 0.1000 -> Training R^2: 0.006, Validation R^2: 0.006\n",
      "Alpha: 0.5000 -> Training R^2: 0.006, Validation R^2: 0.006\n",
      "Alpha: 1.0000 -> Training R^2: 0.006, Validation R^2: 0.006\n",
      "Alpha: 5.0000 -> Training R^2: 0.006, Validation R^2: 0.006\n",
      "Alpha: 10.0000 -> Training R^2: 0.006, Validation R^2: 0.006\n",
      "Alpha: 100.0000 -> Training R^2: 0.006, Validation R^2: 0.006\n",
      "Alpha: 1000.0000 -> Training R^2: 0.005, Validation R^2: 0.005\n",
      "Alpha: 10000.0000 -> Training R^2: 0.002, Validation R^2: 0.002\n",
      "# of components: 55\n",
      "--------\n",
      "Alpha: 0.0100 -> Training R^2: 0.006, Validation R^2: 0.006\n",
      "Alpha: 0.1000 -> Training R^2: 0.006, Validation R^2: 0.006\n",
      "Alpha: 0.5000 -> Training R^2: 0.006, Validation R^2: 0.006\n",
      "Alpha: 1.0000 -> Training R^2: 0.006, Validation R^2: 0.006\n",
      "Alpha: 5.0000 -> Training R^2: 0.006, Validation R^2: 0.006\n",
      "Alpha: 10.0000 -> Training R^2: 0.006, Validation R^2: 0.006\n",
      "Alpha: 100.0000 -> Training R^2: 0.006, Validation R^2: 0.006\n",
      "Alpha: 1000.0000 -> Training R^2: 0.005, Validation R^2: 0.005\n",
      "Alpha: 10000.0000 -> Training R^2: 0.002, Validation R^2: 0.002\n",
      "# of components: 56\n",
      "--------\n",
      "Alpha: 0.0100 -> Training R^2: 0.006, Validation R^2: 0.006\n",
      "Alpha: 0.1000 -> Training R^2: 0.006, Validation R^2: 0.006\n",
      "Alpha: 0.5000 -> Training R^2: 0.006, Validation R^2: 0.006\n",
      "Alpha: 1.0000 -> Training R^2: 0.006, Validation R^2: 0.006\n",
      "Alpha: 5.0000 -> Training R^2: 0.006, Validation R^2: 0.006\n",
      "Alpha: 10.0000 -> Training R^2: 0.006, Validation R^2: 0.006\n",
      "Alpha: 100.0000 -> Training R^2: 0.006, Validation R^2: 0.006\n",
      "Alpha: 1000.0000 -> Training R^2: 0.005, Validation R^2: 0.005\n",
      "Alpha: 10000.0000 -> Training R^2: 0.002, Validation R^2: 0.002\n",
      "# of components: 57\n",
      "--------\n",
      "Alpha: 0.0100 -> Training R^2: 0.007, Validation R^2: 0.006\n",
      "Alpha: 0.1000 -> Training R^2: 0.007, Validation R^2: 0.006\n",
      "Alpha: 0.5000 -> Training R^2: 0.007, Validation R^2: 0.006\n",
      "Alpha: 1.0000 -> Training R^2: 0.007, Validation R^2: 0.006\n",
      "Alpha: 5.0000 -> Training R^2: 0.007, Validation R^2: 0.006\n",
      "Alpha: 10.0000 -> Training R^2: 0.007, Validation R^2: 0.006\n",
      "Alpha: 100.0000 -> Training R^2: 0.007, Validation R^2: 0.006\n",
      "Alpha: 1000.0000 -> Training R^2: 0.005, Validation R^2: 0.005\n",
      "Alpha: 10000.0000 -> Training R^2: 0.002, Validation R^2: 0.002\n",
      "# of components: 58\n",
      "--------\n",
      "Alpha: 0.0100 -> Training R^2: 0.007, Validation R^2: 0.006\n",
      "Alpha: 0.1000 -> Training R^2: 0.007, Validation R^2: 0.006\n",
      "Alpha: 0.5000 -> Training R^2: 0.007, Validation R^2: 0.006\n",
      "Alpha: 1.0000 -> Training R^2: 0.007, Validation R^2: 0.006\n",
      "Alpha: 5.0000 -> Training R^2: 0.007, Validation R^2: 0.006\n",
      "Alpha: 10.0000 -> Training R^2: 0.007, Validation R^2: 0.006\n",
      "Alpha: 100.0000 -> Training R^2: 0.007, Validation R^2: 0.006\n",
      "Alpha: 1000.0000 -> Training R^2: 0.005, Validation R^2: 0.005\n",
      "Alpha: 10000.0000 -> Training R^2: 0.002, Validation R^2: 0.002\n",
      "# of components: 59\n",
      "--------\n",
      "Alpha: 0.0100 -> Training R^2: 0.007, Validation R^2: 0.006\n",
      "Alpha: 0.1000 -> Training R^2: 0.007, Validation R^2: 0.006\n",
      "Alpha: 0.5000 -> Training R^2: 0.007, Validation R^2: 0.006\n",
      "Alpha: 1.0000 -> Training R^2: 0.007, Validation R^2: 0.006\n",
      "Alpha: 5.0000 -> Training R^2: 0.007, Validation R^2: 0.006\n",
      "Alpha: 10.0000 -> Training R^2: 0.007, Validation R^2: 0.006\n",
      "Alpha: 100.0000 -> Training R^2: 0.007, Validation R^2: 0.006\n",
      "Alpha: 1000.0000 -> Training R^2: 0.005, Validation R^2: 0.005\n",
      "Alpha: 10000.0000 -> Training R^2: 0.002, Validation R^2: 0.002\n",
      "# of components: 60\n",
      "--------\n",
      "Alpha: 0.0100 -> Training R^2: 0.007, Validation R^2: 0.006\n",
      "Alpha: 0.1000 -> Training R^2: 0.007, Validation R^2: 0.006\n",
      "Alpha: 0.5000 -> Training R^2: 0.007, Validation R^2: 0.006\n",
      "Alpha: 1.0000 -> Training R^2: 0.007, Validation R^2: 0.006\n",
      "Alpha: 5.0000 -> Training R^2: 0.007, Validation R^2: 0.006\n",
      "Alpha: 10.0000 -> Training R^2: 0.007, Validation R^2: 0.006\n",
      "Alpha: 100.0000 -> Training R^2: 0.007, Validation R^2: 0.006\n",
      "Alpha: 1000.0000 -> Training R^2: 0.005, Validation R^2: 0.005\n",
      "Alpha: 10000.0000 -> Training R^2: 0.002, Validation R^2: 0.002\n",
      "# of components: 61\n",
      "--------\n",
      "Alpha: 0.0100 -> Training R^2: 0.007, Validation R^2: 0.006\n",
      "Alpha: 0.1000 -> Training R^2: 0.007, Validation R^2: 0.006\n",
      "Alpha: 0.5000 -> Training R^2: 0.007, Validation R^2: 0.006\n",
      "Alpha: 1.0000 -> Training R^2: 0.007, Validation R^2: 0.006\n",
      "Alpha: 5.0000 -> Training R^2: 0.007, Validation R^2: 0.006\n",
      "Alpha: 10.0000 -> Training R^2: 0.007, Validation R^2: 0.006\n",
      "Alpha: 100.0000 -> Training R^2: 0.007, Validation R^2: 0.006\n",
      "Alpha: 1000.0000 -> Training R^2: 0.005, Validation R^2: 0.005\n",
      "Alpha: 10000.0000 -> Training R^2: 0.002, Validation R^2: 0.002\n",
      "# of components: 62\n",
      "--------\n",
      "Alpha: 0.0100 -> Training R^2: 0.007, Validation R^2: 0.006\n",
      "Alpha: 0.1000 -> Training R^2: 0.007, Validation R^2: 0.006\n",
      "Alpha: 0.5000 -> Training R^2: 0.007, Validation R^2: 0.006\n",
      "Alpha: 1.0000 -> Training R^2: 0.007, Validation R^2: 0.006\n",
      "Alpha: 5.0000 -> Training R^2: 0.007, Validation R^2: 0.006\n",
      "Alpha: 10.0000 -> Training R^2: 0.007, Validation R^2: 0.006\n",
      "Alpha: 100.0000 -> Training R^2: 0.007, Validation R^2: 0.006\n",
      "Alpha: 1000.0000 -> Training R^2: 0.005, Validation R^2: 0.005\n",
      "Alpha: 10000.0000 -> Training R^2: 0.002, Validation R^2: 0.002\n",
      "# of components: 63\n",
      "--------\n",
      "Alpha: 0.0100 -> Training R^2: 0.007, Validation R^2: 0.006\n",
      "Alpha: 0.1000 -> Training R^2: 0.007, Validation R^2: 0.006\n",
      "Alpha: 0.5000 -> Training R^2: 0.007, Validation R^2: 0.006\n",
      "Alpha: 1.0000 -> Training R^2: 0.007, Validation R^2: 0.006\n",
      "Alpha: 5.0000 -> Training R^2: 0.007, Validation R^2: 0.006\n",
      "Alpha: 10.0000 -> Training R^2: 0.007, Validation R^2: 0.006\n",
      "Alpha: 100.0000 -> Training R^2: 0.007, Validation R^2: 0.006\n",
      "Alpha: 1000.0000 -> Training R^2: 0.005, Validation R^2: 0.005\n",
      "Alpha: 10000.0000 -> Training R^2: 0.002, Validation R^2: 0.002\n",
      "# of components: 64\n",
      "--------\n",
      "Alpha: 0.0100 -> Training R^2: 0.007, Validation R^2: 0.006\n",
      "Alpha: 0.1000 -> Training R^2: 0.007, Validation R^2: 0.006\n",
      "Alpha: 0.5000 -> Training R^2: 0.007, Validation R^2: 0.006\n",
      "Alpha: 1.0000 -> Training R^2: 0.007, Validation R^2: 0.006\n",
      "Alpha: 5.0000 -> Training R^2: 0.007, Validation R^2: 0.006\n",
      "Alpha: 10.0000 -> Training R^2: 0.007, Validation R^2: 0.006\n",
      "Alpha: 100.0000 -> Training R^2: 0.007, Validation R^2: 0.006\n",
      "Alpha: 1000.0000 -> Training R^2: 0.005, Validation R^2: 0.005\n",
      "Alpha: 10000.0000 -> Training R^2: 0.002, Validation R^2: 0.002\n",
      "# of components: 65\n",
      "--------\n",
      "Alpha: 0.0100 -> Training R^2: 0.007, Validation R^2: 0.006\n",
      "Alpha: 0.1000 -> Training R^2: 0.007, Validation R^2: 0.006\n",
      "Alpha: 0.5000 -> Training R^2: 0.007, Validation R^2: 0.006\n",
      "Alpha: 1.0000 -> Training R^2: 0.007, Validation R^2: 0.006\n",
      "Alpha: 5.0000 -> Training R^2: 0.007, Validation R^2: 0.006\n",
      "Alpha: 10.0000 -> Training R^2: 0.007, Validation R^2: 0.006\n",
      "Alpha: 100.0000 -> Training R^2: 0.007, Validation R^2: 0.006\n",
      "Alpha: 1000.0000 -> Training R^2: 0.005, Validation R^2: 0.005\n",
      "Alpha: 10000.0000 -> Training R^2: 0.002, Validation R^2: 0.002\n",
      "# of components: 66\n",
      "--------\n",
      "Alpha: 0.0100 -> Training R^2: 0.007, Validation R^2: 0.006\n",
      "Alpha: 0.1000 -> Training R^2: 0.007, Validation R^2: 0.006\n",
      "Alpha: 0.5000 -> Training R^2: 0.007, Validation R^2: 0.006\n",
      "Alpha: 1.0000 -> Training R^2: 0.007, Validation R^2: 0.006\n",
      "Alpha: 5.0000 -> Training R^2: 0.007, Validation R^2: 0.006\n",
      "Alpha: 10.0000 -> Training R^2: 0.007, Validation R^2: 0.006\n",
      "Alpha: 100.0000 -> Training R^2: 0.007, Validation R^2: 0.006\n",
      "Alpha: 1000.0000 -> Training R^2: 0.005, Validation R^2: 0.005\n",
      "Alpha: 10000.0000 -> Training R^2: 0.002, Validation R^2: 0.002\n",
      "# of components: 67\n",
      "--------\n",
      "Alpha: 0.0100 -> Training R^2: 0.007, Validation R^2: 0.006\n",
      "Alpha: 0.1000 -> Training R^2: 0.007, Validation R^2: 0.006\n",
      "Alpha: 0.5000 -> Training R^2: 0.007, Validation R^2: 0.006\n",
      "Alpha: 1.0000 -> Training R^2: 0.007, Validation R^2: 0.006\n",
      "Alpha: 5.0000 -> Training R^2: 0.007, Validation R^2: 0.006\n",
      "Alpha: 10.0000 -> Training R^2: 0.007, Validation R^2: 0.006\n",
      "Alpha: 100.0000 -> Training R^2: 0.007, Validation R^2: 0.006\n",
      "Alpha: 1000.0000 -> Training R^2: 0.005, Validation R^2: 0.005\n",
      "Alpha: 10000.0000 -> Training R^2: 0.002, Validation R^2: 0.002\n",
      "# of components: 68\n",
      "--------\n",
      "Alpha: 0.0100 -> Training R^2: 0.007, Validation R^2: 0.006\n",
      "Alpha: 0.1000 -> Training R^2: 0.007, Validation R^2: 0.006\n",
      "Alpha: 0.5000 -> Training R^2: 0.007, Validation R^2: 0.006\n",
      "Alpha: 1.0000 -> Training R^2: 0.007, Validation R^2: 0.006\n",
      "Alpha: 5.0000 -> Training R^2: 0.007, Validation R^2: 0.006\n",
      "Alpha: 10.0000 -> Training R^2: 0.007, Validation R^2: 0.006\n",
      "Alpha: 100.0000 -> Training R^2: 0.007, Validation R^2: 0.006\n",
      "Alpha: 1000.0000 -> Training R^2: 0.005, Validation R^2: 0.005\n",
      "Alpha: 10000.0000 -> Training R^2: 0.002, Validation R^2: 0.002\n",
      "# of components: 69\n",
      "--------\n",
      "Alpha: 0.0100 -> Training R^2: 0.007, Validation R^2: 0.006\n",
      "Alpha: 0.1000 -> Training R^2: 0.007, Validation R^2: 0.006\n",
      "Alpha: 0.5000 -> Training R^2: 0.007, Validation R^2: 0.006\n",
      "Alpha: 1.0000 -> Training R^2: 0.007, Validation R^2: 0.006\n",
      "Alpha: 5.0000 -> Training R^2: 0.007, Validation R^2: 0.006\n",
      "Alpha: 10.0000 -> Training R^2: 0.007, Validation R^2: 0.006\n",
      "Alpha: 100.0000 -> Training R^2: 0.007, Validation R^2: 0.006\n",
      "Alpha: 1000.0000 -> Training R^2: 0.005, Validation R^2: 0.005\n",
      "Alpha: 10000.0000 -> Training R^2: 0.002, Validation R^2: 0.002\n",
      "# of components: 70\n",
      "--------\n",
      "Alpha: 0.0100 -> Training R^2: 0.007, Validation R^2: 0.006\n",
      "Alpha: 0.1000 -> Training R^2: 0.007, Validation R^2: 0.006\n",
      "Alpha: 0.5000 -> Training R^2: 0.007, Validation R^2: 0.006\n",
      "Alpha: 1.0000 -> Training R^2: 0.007, Validation R^2: 0.006\n",
      "Alpha: 5.0000 -> Training R^2: 0.007, Validation R^2: 0.006\n",
      "Alpha: 10.0000 -> Training R^2: 0.007, Validation R^2: 0.006\n",
      "Alpha: 100.0000 -> Training R^2: 0.007, Validation R^2: 0.006\n",
      "Alpha: 1000.0000 -> Training R^2: 0.005, Validation R^2: 0.005\n",
      "Alpha: 10000.0000 -> Training R^2: 0.002, Validation R^2: 0.002\n",
      "# of components: 71\n",
      "--------\n",
      "Alpha: 0.0100 -> Training R^2: 0.007, Validation R^2: 0.006\n",
      "Alpha: 0.1000 -> Training R^2: 0.007, Validation R^2: 0.006\n",
      "Alpha: 0.5000 -> Training R^2: 0.007, Validation R^2: 0.006\n",
      "Alpha: 1.0000 -> Training R^2: 0.007, Validation R^2: 0.006\n",
      "Alpha: 5.0000 -> Training R^2: 0.007, Validation R^2: 0.006\n",
      "Alpha: 10.0000 -> Training R^2: 0.007, Validation R^2: 0.006\n",
      "Alpha: 100.0000 -> Training R^2: 0.007, Validation R^2: 0.006\n",
      "Alpha: 1000.0000 -> Training R^2: 0.005, Validation R^2: 0.005\n",
      "Alpha: 10000.0000 -> Training R^2: 0.002, Validation R^2: 0.002\n",
      "# of components: 72\n",
      "--------\n",
      "Alpha: 0.0100 -> Training R^2: 0.007, Validation R^2: 0.006\n",
      "Alpha: 0.1000 -> Training R^2: 0.007, Validation R^2: 0.006\n",
      "Alpha: 0.5000 -> Training R^2: 0.007, Validation R^2: 0.006\n",
      "Alpha: 1.0000 -> Training R^2: 0.007, Validation R^2: 0.006\n",
      "Alpha: 5.0000 -> Training R^2: 0.007, Validation R^2: 0.006\n",
      "Alpha: 10.0000 -> Training R^2: 0.007, Validation R^2: 0.006\n",
      "Alpha: 100.0000 -> Training R^2: 0.007, Validation R^2: 0.006\n",
      "Alpha: 1000.0000 -> Training R^2: 0.005, Validation R^2: 0.005\n",
      "Alpha: 10000.0000 -> Training R^2: 0.002, Validation R^2: 0.002\n",
      "# of components: 73\n",
      "--------\n",
      "Alpha: 0.0100 -> Training R^2: 0.007, Validation R^2: 0.006\n",
      "Alpha: 0.1000 -> Training R^2: 0.007, Validation R^2: 0.006\n",
      "Alpha: 0.5000 -> Training R^2: 0.007, Validation R^2: 0.006\n",
      "Alpha: 1.0000 -> Training R^2: 0.007, Validation R^2: 0.006\n",
      "Alpha: 5.0000 -> Training R^2: 0.007, Validation R^2: 0.006\n",
      "Alpha: 10.0000 -> Training R^2: 0.007, Validation R^2: 0.006\n",
      "Alpha: 100.0000 -> Training R^2: 0.007, Validation R^2: 0.006\n",
      "Alpha: 1000.0000 -> Training R^2: 0.005, Validation R^2: 0.005\n",
      "Alpha: 10000.0000 -> Training R^2: 0.002, Validation R^2: 0.002\n",
      "# of components: 74\n",
      "--------\n",
      "Alpha: 0.0100 -> Training R^2: 0.007, Validation R^2: 0.006\n",
      "Alpha: 0.1000 -> Training R^2: 0.007, Validation R^2: 0.006\n",
      "Alpha: 0.5000 -> Training R^2: 0.007, Validation R^2: 0.006\n",
      "Alpha: 1.0000 -> Training R^2: 0.007, Validation R^2: 0.006\n",
      "Alpha: 5.0000 -> Training R^2: 0.007, Validation R^2: 0.006\n",
      "Alpha: 10.0000 -> Training R^2: 0.007, Validation R^2: 0.006\n",
      "Alpha: 100.0000 -> Training R^2: 0.007, Validation R^2: 0.006\n",
      "Alpha: 1000.0000 -> Training R^2: 0.005, Validation R^2: 0.005\n",
      "Alpha: 10000.0000 -> Training R^2: 0.002, Validation R^2: 0.002\n",
      "# of components: 75\n",
      "--------\n",
      "Alpha: 0.0100 -> Training R^2: 0.007, Validation R^2: 0.006\n",
      "Alpha: 0.1000 -> Training R^2: 0.007, Validation R^2: 0.006\n",
      "Alpha: 0.5000 -> Training R^2: 0.007, Validation R^2: 0.006\n",
      "Alpha: 1.0000 -> Training R^2: 0.007, Validation R^2: 0.006\n",
      "Alpha: 5.0000 -> Training R^2: 0.007, Validation R^2: 0.006\n",
      "Alpha: 10.0000 -> Training R^2: 0.007, Validation R^2: 0.006\n",
      "Alpha: 100.0000 -> Training R^2: 0.007, Validation R^2: 0.006\n",
      "Alpha: 1000.0000 -> Training R^2: 0.005, Validation R^2: 0.005\n",
      "Alpha: 10000.0000 -> Training R^2: 0.002, Validation R^2: 0.002\n",
      "# of components: 76\n",
      "--------\n",
      "Alpha: 0.0100 -> Training R^2: 0.007, Validation R^2: 0.006\n",
      "Alpha: 0.1000 -> Training R^2: 0.007, Validation R^2: 0.006\n",
      "Alpha: 0.5000 -> Training R^2: 0.007, Validation R^2: 0.006\n",
      "Alpha: 1.0000 -> Training R^2: 0.007, Validation R^2: 0.006\n",
      "Alpha: 5.0000 -> Training R^2: 0.007, Validation R^2: 0.006\n",
      "Alpha: 10.0000 -> Training R^2: 0.007, Validation R^2: 0.006\n",
      "Alpha: 100.0000 -> Training R^2: 0.007, Validation R^2: 0.006\n",
      "Alpha: 1000.0000 -> Training R^2: 0.005, Validation R^2: 0.005\n",
      "Alpha: 10000.0000 -> Training R^2: 0.002, Validation R^2: 0.002\n",
      "# of components: 77\n",
      "--------\n",
      "Alpha: 0.0100 -> Training R^2: 0.007, Validation R^2: 0.006\n",
      "Alpha: 0.1000 -> Training R^2: 0.007, Validation R^2: 0.006\n",
      "Alpha: 0.5000 -> Training R^2: 0.007, Validation R^2: 0.006\n",
      "Alpha: 1.0000 -> Training R^2: 0.007, Validation R^2: 0.006\n",
      "Alpha: 5.0000 -> Training R^2: 0.007, Validation R^2: 0.006\n",
      "Alpha: 10.0000 -> Training R^2: 0.007, Validation R^2: 0.006\n",
      "Alpha: 100.0000 -> Training R^2: 0.007, Validation R^2: 0.006\n",
      "Alpha: 1000.0000 -> Training R^2: 0.005, Validation R^2: 0.005\n",
      "Alpha: 10000.0000 -> Training R^2: 0.002, Validation R^2: 0.002\n"
     ]
    }
   ],
   "source": [
    "for i in range(1,78):\n",
    "  print(\"# of components:\", i)\n",
    "  print(\"--------\")\n",
    "  pca = PCA(n_components= i)  # 'mle' automatically selects the number of components\n",
    "  X_train_pca = pca.fit_transform(X_train)\n",
    "  X_val_pca = pca.transform(X_val)\n",
    "\n",
    "  train_r2_scores = []\n",
    "  val_r2_scores = []\n",
    "\n",
    "  for alpha in alphas:\n",
    "    ridge = Ridge(alpha=alpha)\n",
    "    ridge.fit(X_train_pca, y_train)\n",
    "    train_r2 = r2_score(y_train, ridge.predict(X_train_pca))\n",
    "    val_r2 = r2_score(y_val, ridge.predict(X_val_pca))\n",
    "    train_r2_scores.append(train_r2)\n",
    "    val_r2_scores.append(val_r2)\n",
    "    print(f\"Alpha: {alpha:.4f} -> Training R^2: {train_r2:.3f}, Validation R^2: {val_r2:.3f}\")"
   ]
  },
  {
   "cell_type": "markdown",
   "metadata": {
    "id": "gzuLnXFQ9EqS"
   },
   "source": [
    "## Summary\n",
    "\n",
    "We observed that PCA with 46 components and regularization alpha of 100 will give the best result.\n",
    "\n",
    "It performs better than RBF Kernel with regularization but overall still underfitting."
   ]
  },
  {
   "cell_type": "code",
   "execution_count": null,
   "metadata": {
    "id": "xGUmK6X98Baf"
   },
   "outputs": [],
   "source": []
  }
 ],
 "metadata": {
  "colab": {
   "machine_shape": "hm",
   "provenance": []
  },
  "kernelspec": {
   "display_name": "Python 3 (ipykernel)",
   "language": "python",
   "name": "python3"
  },
  "language_info": {
   "codemirror_mode": {
    "name": "ipython",
    "version": 3
   },
   "file_extension": ".py",
   "mimetype": "text/x-python",
   "name": "python",
   "nbconvert_exporter": "python",
   "pygments_lexer": "ipython3",
   "version": "3.11.5"
  }
 },
 "nbformat": 4,
 "nbformat_minor": 0
}
