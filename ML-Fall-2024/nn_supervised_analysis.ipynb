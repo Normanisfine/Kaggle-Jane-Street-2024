{
  "cells": [
    {
      "cell_type": "markdown",
      "metadata": {
        "id": "_PmOxXwKdI7Y"
      },
      "source": [
        "# Neural Network Notebook"
      ]
    },
    {
      "cell_type": "code",
      "execution_count": 1,
      "metadata": {
        "id": "TX9jmFbWdI7Y",
        "trusted": true
      },
      "outputs": [],
      "source": [
        "# This Python 3 environment comes with many helpful analytics libraries installed\n",
        "# It is defined by the kaggle/python Docker image: https://github.com/kaggle/docker-python\n",
        "# For example, here's several helpful packages to load\n",
        "\n",
        "import numpy as np # linear algebra\n",
        "import pandas as pd # data processing, CSV file I/O (e.g. pd.read_csv)\n",
        "import torch\n",
        "from torch.utils.data import Dataset, DataLoader, random_split, TensorDataset\n",
        "import torch.nn as nn\n",
        "import torch.optim as optim\n",
        "from sklearn.metrics import mean_squared_error, mean_absolute_error, r2_score\n",
        "import matplotlib.pyplot as plt"
      ]
    },
    {
      "cell_type": "markdown",
      "metadata": {
        "id": "4dQeXEMmdI7Z"
      },
      "source": [
        "## Requirements / General Notes:\n",
        "#### - Try Different Feature Transformations (PCA, ... etc.)\n",
        "#### - Try Different Model Architecutres (Going to try 3 different model architectures)\n",
        "#### - Try Different Regulariztions (6 Different values for each model)\n",
        "#### - Different sybmol ID represent different securities\n",
        "#### - Time series data, so Date ID is important"
      ]
    },
    {
      "cell_type": "code",
      "execution_count": 2,
      "metadata": {
        "id": "atv5EUL6dI7Z",
        "trusted": true
      },
      "outputs": [],
      "source": [
        "# configs\n",
        "pd.set_option('display.max_columns', None)\n",
        "pd.set_option('display.max_rows', 100)"
      ]
    },
    {
      "cell_type": "markdown",
      "metadata": {
        "id": "sXdMKJXYdI7Z"
      },
      "source": [
        "## Data Imports (Data Already Scaled & Normalized Thanks MJ :) )"
      ]
    },
    {
      "cell_type": "code",
      "execution_count": 34,
      "metadata": {
        "execution": {
          "iopub.execute_input": "2024-12-06T00:32:08.756054Z",
          "iopub.status.busy": "2024-12-06T00:32:08.755368Z",
          "iopub.status.idle": "2024-12-06T00:32:26.566715Z",
          "shell.execute_reply": "2024-12-06T00:32:26.565657Z",
          "shell.execute_reply.started": "2024-12-06T00:32:08.756003Z"
        },
        "id": "7yt8PKHydI7Z",
        "trusted": true
      },
      "outputs": [],
      "source": [
        "train_val_df = pd.read_csv('/content/df_miss_outliers_replaced_scaled_normalized.csv')\n",
        "test_df = pd.read_csv('/content/df_test_scaled_normalized.csv')"
      ]
    },
    {
      "cell_type": "markdown",
      "metadata": {
        "id": "KZvM7oOodI7Z"
      },
      "source": [
        "## Data preparation for training and validation"
      ]
    },
    {
      "cell_type": "code",
      "execution_count": 40,
      "metadata": {
        "execution": {
          "iopub.execute_input": "2024-12-06T00:32:26.716957Z",
          "iopub.status.busy": "2024-12-06T00:32:26.716608Z",
          "iopub.status.idle": "2024-12-06T00:32:37.164877Z",
          "shell.execute_reply": "2024-12-06T00:32:37.163534Z",
          "shell.execute_reply.started": "2024-12-06T00:32:26.716923Z"
        },
        "id": "bgrb_b7HdI7Z",
        "trusted": true
      },
      "outputs": [],
      "source": [
        "\n",
        "#Splitting features and targets\n",
        "train_val_features = train_val_df[[f\"feature_{i:02}\" for i in range(79)]].values\n",
        "train_val_target = train_val_df['responder_6'].values\n",
        "\n",
        "#Converting them into torch tensors\n",
        "X_tensor = torch.tensor(train_val_features, dtype=torch.float32)\n",
        "y_tensor = torch.tensor(train_val_target, dtype=torch.float32).unsqueeze(1)"
      ]
    },
    {
      "cell_type": "markdown",
      "metadata": {
        "id": "uFeKYBavdI7a"
      },
      "source": [
        "### Custom Dataset Class\n",
        "#### Was having issues with using X and y as pure torchTesnors, so I created a custom dataset class"
      ]
    },
    {
      "cell_type": "code",
      "execution_count": 41,
      "metadata": {
        "colab": {
          "base_uri": "https://localhost:8080/"
        },
        "execution": {
          "iopub.execute_input": "2024-12-06T02:36:44.273592Z",
          "iopub.status.busy": "2024-12-06T02:36:44.273023Z",
          "iopub.status.idle": "2024-12-06T02:36:44.425485Z",
          "shell.execute_reply": "2024-12-06T02:36:44.424395Z",
          "shell.execute_reply.started": "2024-12-06T02:36:44.273519Z"
        },
        "id": "cd6RnDyCdI7a",
        "outputId": "34a9d7b3-5faa-4379-ee57-4474cc69583e",
        "trusted": true
      },
      "outputs": [
        {
          "name": "stdout",
          "output_type": "stream",
          "text": [
            "Total dataset size:  471486\n",
            "Training dataset size:  377188\n",
            "Validation dataset size: len(val_dataset) 94298\n",
            "Training batch - Inputs: torch.Size([32, 79]) Targets: torch.Size([32, 1])\n",
            "Validation batch - Inputs: torch.Size([32, 79]) Targets: torch.Size([32, 1])\n"
          ]
        }
      ],
      "source": [
        "class TimeSeriesDataset(Dataset): #Took a minute, but apparently it must inherit from the PyTorch \"Abstract Dataset Class\"\n",
        "    def __init__(self, features, target):\n",
        "        self.features = features\n",
        "        self.target = target\n",
        "\n",
        "    def __len__(self):\n",
        "        return len(self.features)\n",
        "\n",
        "    def __getitem__(self, idx):\n",
        "        return self.features[idx], self.target[idx]\n",
        "\n",
        "dataset = TimeSeriesDataset(X_tensor, y_tensor)\n",
        "\n",
        "train_ratio = 0.8  # 80% for training, 20% for validation\n",
        "train_size = int(len(dataset) * train_ratio)\n",
        "val_size = len(dataset) - train_size\n",
        "train_dataset, val_dataset = random_split(dataset, [train_size, val_size]) #Splits the data dandomly\n",
        "\n",
        "# Using Pytorch DataLoaders - It is a must for using PyToech\n",
        "batch_size = 32\n",
        "train_loader = DataLoader(train_dataset, batch_size=batch_size, shuffle=True)\n",
        "val_loader = DataLoader(val_dataset, batch_size=batch_size, shuffle=False)\n",
        "\n",
        "# Printing dataset sizes\n",
        "print(\"Total dataset size: \", len(dataset))\n",
        "print(\"Training dataset size: \", len(train_dataset))\n",
        "print(\"Validation dataset size: len(val_dataset)\", len(val_dataset))\n",
        "\n",
        "for batch in train_loader:\n",
        "    inputs, targets = batch\n",
        "    print(\"Training batch - Inputs:\", inputs.shape, \"Targets:\", targets.shape)\n",
        "    break\n",
        "\n",
        "for batch in val_loader:\n",
        "    inputs, targets = batch\n",
        "    print(\"Validation batch - Inputs:\", inputs.shape, \"Targets:\", targets.shape)\n",
        "    break"
      ]
    },
    {
      "cell_type": "markdown",
      "metadata": {
        "id": "nS5oHnVbdI7a"
      },
      "source": [
        "## 3 different Multi-Layer Perceptrons\n",
        "Reference: https://pytorch.org/tutorials/beginner/basics/quickstart_tutorial.html"
      ]
    },
    {
      "cell_type": "markdown",
      "metadata": {
        "id": "Kn8nVmpbdI7a"
      },
      "source": [
        "### Standard MLP\n",
        "#### 2 hidden layers:\n",
        "* 1st hidden layer: 128 neurons\n",
        "* 2nd hidden layer: 64 neurons"
      ]
    },
    {
      "cell_type": "code",
      "execution_count": 42,
      "metadata": {
        "execution": {
          "iopub.execute_input": "2024-12-06T02:45:50.404572Z",
          "iopub.status.busy": "2024-12-06T02:45:50.404071Z",
          "iopub.status.idle": "2024-12-06T02:45:50.415661Z",
          "shell.execute_reply": "2024-12-06T02:45:50.414374Z",
          "shell.execute_reply.started": "2024-12-06T02:45:50.404513Z"
        },
        "id": "j9nAUe9tdI7a",
        "trusted": true
      },
      "outputs": [],
      "source": [
        "class MLP(nn.Module):\n",
        "    def __init__(self, input_dim, hidden_units=[128, 64], output_dim=1):\n",
        "        super(MLP, self).__init__()\n",
        "        self.fc1 = nn.Linear(input_dim, hidden_units[0])\n",
        "        self.fc2 = nn.Linear(hidden_units[0], hidden_units[1])\n",
        "        self.fc3 = nn.Linear(hidden_units[1], output_dim)\n",
        "        self.relu = nn.ReLU()\n",
        "        self.dropout = nn.Dropout(0.2)\n",
        "\n",
        "    def forward(self, x):\n",
        "        x = self.relu(self.fc1(x))\n",
        "        x = self.dropout(x)\n",
        "        x = self.relu(self.fc2(x))\n",
        "        x = self.fc3(x)\n",
        "        return x\n",
        "\n",
        "# Initialize the model\n",
        "input_dim = train_val_features.shape[1]  # Number of features\n",
        "standard_model = MLP(input_dim)"
      ]
    },
    {
      "cell_type": "markdown",
      "metadata": {
        "id": "FcbjuAMhdI7a"
      },
      "source": [
        "### Wider MLP\n",
        "#### 2 hidden layers:\n",
        "* 1st hidden layer: 512 neurons\n",
        "* 2nd hidden layer: 256 neurons"
      ]
    },
    {
      "cell_type": "code",
      "execution_count": 43,
      "metadata": {
        "collapsed": true,
        "execution": {
          "iopub.execute_input": "2024-12-06T17:51:19.639374Z",
          "iopub.status.busy": "2024-12-06T17:51:19.638955Z",
          "iopub.status.idle": "2024-12-06T17:51:19.958853Z",
          "shell.execute_reply": "2024-12-06T17:51:19.957261Z",
          "shell.execute_reply.started": "2024-12-06T17:51:19.639340Z"
        },
        "id": "J1CqTDRldI7a",
        "jupyter": {
          "outputs_hidden": true
        },
        "trusted": true
      },
      "outputs": [],
      "source": [
        "class WiderMLP(nn.Module):\n",
        "    def __init__(self, input_dim, hidden_units=[512, 256], output_dim=1):\n",
        "        super(WiderMLP, self).__init__()\n",
        "        self.fc1 = nn.Linear(input_dim, hidden_units[0])\n",
        "        self.fc2 = nn.Linear(hidden_units[0], hidden_units[1])\n",
        "        self.fc3 = nn.Linear(hidden_units[1], output_dim)\n",
        "        self.relu = nn.ReLU()\n",
        "        self.dropout = nn.Dropout(0.2)\n",
        "\n",
        "    def forward(self, x):\n",
        "        x = self.relu(self.fc1(x))\n",
        "        x = self.dropout(x)\n",
        "        x = self.relu(self.fc2(x))\n",
        "        x = self.dropout(x)\n",
        "        x = self.relu(self.fc3(x))\n",
        "        return x\n",
        "\n",
        "input_dim = train_val_features.shape[1]  # Number of features\n",
        "wider_model = WiderMLP(input_dim)"
      ]
    },
    {
      "cell_type": "markdown",
      "metadata": {
        "id": "CIqDSjXVdI7a"
      },
      "source": [
        "### Deeper MLP\n",
        "#### 4 hidden layers:\n",
        "* 1st hidden layer: 128 neurons\n",
        "* 2nd hidden layer: 128 neurons\n",
        "* 3rd hidden layer: 64 neurons\n",
        "* 4th hidden layer: 64 neurons\n"
      ]
    },
    {
      "cell_type": "code",
      "execution_count": 44,
      "metadata": {
        "execution": {
          "iopub.execute_input": "2024-12-06T18:02:50.567821Z",
          "iopub.status.busy": "2024-12-06T18:02:50.567414Z",
          "iopub.status.idle": "2024-12-06T18:02:50.603061Z",
          "shell.execute_reply": "2024-12-06T18:02:50.601670Z",
          "shell.execute_reply.started": "2024-12-06T18:02:50.567786Z"
        },
        "id": "QaW5SSePdI7a",
        "trusted": true
      },
      "outputs": [],
      "source": [
        "class DeeperMLP(nn.Module):\n",
        "    def __init__(self, input_dim, hidden_units=[128, 128, 64, 64], output_dim=1):\n",
        "        super(DeeperMLP, self).__init__()\n",
        "        self.fc1 = nn.Linear(input_dim, hidden_units[0])\n",
        "        self.fc2 = nn.Linear(hidden_units[0], hidden_units[1])\n",
        "        self.fc3 = nn.Linear(hidden_units[1], hidden_units[2])\n",
        "        self.fc4 = nn.Linear(hidden_units[2], hidden_units[3])\n",
        "        self.fc5 = nn.Linear(hidden_units[3], output_dim)\n",
        "        self.relu = nn.ReLU()\n",
        "        self.dropout = nn.Dropout(0.2)\n",
        "\n",
        "    def forward(self, x):\n",
        "        x = self.relu(self.fc1(x))\n",
        "        x = self.dropout(x)\n",
        "        x = self.relu(self.fc2(x))\n",
        "        x = self.dropout(x)\n",
        "        x = self.relu(self.fc3(x))\n",
        "        x = self.dropout(x)\n",
        "        x = self.relu(self.fc4(x))\n",
        "        x = self.fc5(x)\n",
        "        return x\n",
        "\n",
        "input_dim = train_val_features.shape[1]  # Number of features\n",
        "deeper_model = DeeperMLP(input_dim)"
      ]
    },
    {
      "cell_type": "markdown",
      "metadata": {
        "id": "LHZ4Li-fdI7a"
      },
      "source": [
        "## Model Training"
      ]
    },
    {
      "cell_type": "markdown",
      "metadata": {
        "id": "jIl7lfsddI7a"
      },
      "source": [
        "Reference: https://pytorch.org/tutorials/beginner/basics/quickstart_tutorial.html"
      ]
    },
    {
      "cell_type": "code",
      "execution_count": 52,
      "metadata": {
        "colab": {
          "base_uri": "https://localhost:8080/"
        },
        "execution": {
          "iopub.execute_input": "2024-12-06T02:56:21.985977Z",
          "iopub.status.busy": "2024-12-06T02:56:21.985512Z",
          "iopub.status.idle": "2024-12-06T03:00:35.086211Z",
          "shell.execute_reply": "2024-12-06T03:00:35.085292Z",
          "shell.execute_reply.started": "2024-12-06T02:56:21.985940Z"
        },
        "id": "a7VrO__LdI7a",
        "outputId": "81c73ffc-3a1d-4a09-93af-4303ac8fcd86",
        "trusted": true
      },
      "outputs": [
        {
          "name": "stdout",
          "output_type": "stream",
          "text": [
            "CPU times: user 4 µs, sys: 0 ns, total: 4 µs\n",
            "Wall time: 7.39 µs\n"
          ]
        }
      ],
      "source": [
        "%%time\n",
        "\n",
        "\n",
        "#Keeping lr=0.001 constant for each of the networks.\n",
        "\n",
        "def train_model(num_epochs, data_loader, lambda_, model, losses):\n",
        "\n",
        "    #Opting for a the adam optimizer, may switch it up, depending on time constraints\n",
        "    #Also, going with the Mean-Squard error for measuring loss\n",
        "\n",
        "    optimizer = optim.SGD(model.parameters(), lr=0.001, weight_decay=lambda_)\n",
        "    criterion = nn.MSELoss()\n",
        "\n",
        "    # losses = []\n",
        "    for epoch in range(num_epochs):\n",
        "        model.train()\n",
        "        running_loss = 0.0\n",
        "        for batch in data_loader:\n",
        "            inputs, targets = batch\n",
        "\n",
        "            # Forward pass\n",
        "            outputs = model(inputs)\n",
        "            loss = criterion(outputs, targets)\n",
        "\n",
        "            # Backward pass and optimization\n",
        "            optimizer.zero_grad()\n",
        "            loss.backward()\n",
        "            optimizer.step()\n",
        "\n",
        "            running_loss += loss.item()\n",
        "\n",
        "        print(f\"Epoch [{epoch+1}/{num_epochs}], Loss: {running_loss/len(data_loader):.4f}\")\n",
        "        losses.append(running_loss/len(data_loader))\n"
      ]
    },
    {
      "cell_type": "code",
      "execution_count": 53,
      "metadata": {
        "colab": {
          "base_uri": "https://localhost:8080/"
        },
        "id": "jBa5iuCkfte8",
        "outputId": "d46eb539-666a-4936-92cd-01e96df5073d"
      },
      "outputs": [
        {
          "name": "stdout",
          "output_type": "stream",
          "text": [
            "Epoch [1/5], Loss: 0.7920\n",
            "Epoch [2/5], Loss: 0.7920\n",
            "Epoch [3/5], Loss: 0.7917\n",
            "Epoch [4/5], Loss: 0.7916\n",
            "Epoch [5/5], Loss: 0.7915\n"
          ]
        }
      ],
      "source": [
        "num_epochs = 5\n",
        "lambda_ = 1e-4\n",
        "losses = []\n",
        "train_model(num_epochs, train_loader, lambda_, standard_model, losses)"
      ]
    },
    {
      "cell_type": "markdown",
      "metadata": {
        "id": "CWRZjUWPdI7a"
      },
      "source": [
        "## Model Evaluation"
      ]
    },
    {
      "cell_type": "code",
      "execution_count": 47,
      "metadata": {
        "colab": {
          "base_uri": "https://localhost:8080/"
        },
        "execution": {
          "iopub.execute_input": "2024-12-06T03:11:55.966194Z",
          "iopub.status.busy": "2024-12-06T03:11:55.965855Z",
          "iopub.status.idle": "2024-12-06T03:12:02.634801Z",
          "shell.execute_reply": "2024-12-06T03:12:02.633735Z",
          "shell.execute_reply.started": "2024-12-06T03:11:55.966159Z"
        },
        "id": "OTOJ4Tb6dI7a",
        "outputId": "9017b9c4-1edf-4d02-da0d-c32d5dc9706c",
        "trusted": true
      },
      "outputs": [
        {
          "name": "stdout",
          "output_type": "stream",
          "text": [
            "Evaluation Metrics:\n",
            "Loss (MSE): 0.8012\n",
            "Mean Squared Error: 0.8013\n",
            "Mean Absolute Error: 0.5760\n",
            "R2 Score: 0.0008\n"
          ]
        }
      ],
      "source": [
        "\n",
        "def evaluate_model(model, dataloader, criterion):\n",
        "    model.eval()  # Set the model to evaluation mode\n",
        "    predictions = []\n",
        "    targets = []\n",
        "    total_loss = 0.0\n",
        "\n",
        "    with torch.no_grad():  # Disabling gradent calculation\n",
        "        for inputs, labels in dataloader:\n",
        "            # Forward pass\n",
        "            outputs = model(inputs)\n",
        "            loss = criterion(outputs, labels)\n",
        "            total_loss += loss.item()\n",
        "\n",
        "            # Store predictions and targets\n",
        "            predictions.append(outputs.numpy())\n",
        "            targets.append(labels.numpy())\n",
        "\n",
        "\n",
        "    # Combine all predictions and targets\n",
        "    predictions = np.vstack(predictions)\n",
        "    targets = np.vstack(targets)\n",
        "\n",
        "    # Metrics for calculated on the validation set\n",
        "    mse = mean_squared_error(targets, predictions)  # Mean-Squared Error\n",
        "    mae = mean_absolute_error(targets, predictions) # Mean-Aboslute Error\n",
        "    r2 = r2_score(targets, predictions)             # R2 Score\n",
        "\n",
        "    # Average loss\n",
        "    avg_loss = total_loss / len(dataloader)\n",
        "\n",
        "    metrics = {\n",
        "        \"Loss (MSE)\": avg_loss,\n",
        "        \"Mean Squared Error\": mse,\n",
        "        \"Mean Absolute Error\": mae,\n",
        "        \"R2 Score\": r2,\n",
        "    }\n",
        "\n",
        "    return metrics, predictions, targets\n",
        "\n",
        "criterion = torch.nn.MSELoss()\n",
        "\n",
        "metrics, predictions, targets = evaluate_model(standard_model, val_loader, criterion)\n",
        "\n",
        "print(\"Evaluation Metrics:\")\n",
        "for metric, value in metrics.items():\n",
        "    print(f\"{metric}: {value:.4f}\")\n"
      ]
    },
    {
      "cell_type": "code",
      "execution_count": null,
      "metadata": {
        "id": "O4ePArKTf05k"
      },
      "outputs": [],
      "source": []
    },
    {
      "cell_type": "markdown",
      "metadata": {
        "id": "1BHDBr6mdI7b"
      },
      "source": [
        "## Training Loss and Epochs Graph"
      ]
    },
    {
      "cell_type": "code",
      "execution_count": 54,
      "metadata": {
        "colab": {
          "base_uri": "https://localhost:8080/",
          "height": 564
        },
        "execution": {
          "iopub.execute_input": "2024-12-06T03:12:14.988521Z",
          "iopub.status.busy": "2024-12-06T03:12:14.988118Z",
          "iopub.status.idle": "2024-12-06T03:12:15.259774Z",
          "shell.execute_reply": "2024-12-06T03:12:15.258669Z",
          "shell.execute_reply.started": "2024-12-06T03:12:14.988482Z"
        },
        "id": "8eP2ip-LdI7b",
        "outputId": "589c07f5-da4a-4fd8-892a-4374f16bb1d2",
        "trusted": true
      },
      "outputs": [
        {
          "data": {
            "image/png": "[encoded data removed]",
            "text/plain": [
              "<Figure size 800x600 with 1 Axes>"
            ]
          },
          "metadata": {},
          "output_type": "display_data"
        }
      ],
      "source": [
        "\n",
        "def plot_training_loss(losses, title=\"Training Loss vs. Epochs\"):\n",
        "\n",
        "    epochs = range(1, len(losses) + 1)  # Epoch numbers (1-based index)\n",
        "    plt.figure(figsize=(8, 6))\n",
        "    plt.plot(epochs, losses, marker='o', label=\"Training Loss\")\n",
        "    plt.xlabel(\"Epochs\")\n",
        "    plt.ylabel(\"Loss\")\n",
        "    plt.xticks(epochs)  # Set x-axis ticks to correspond to each epoch\n",
        "    plt.title(title)\n",
        "    plt.legend()\n",
        "    plt.grid(True)\n",
        "    plt.show()\n",
        "\n",
        "\n",
        "plot_training_loss(losses)"
      ]
    },
    {
      "cell_type": "markdown",
      "metadata": {
        "id": "IfLRNEDKdI7b"
      },
      "source": [
        "#### I will run all of the tests tomorrow. This is set up nicely. Should take like 10 minutes, or more depending on how daunting the training is."
      ]
    },
    {
      "cell_type": "code",
      "execution_count": 55,
      "metadata": {
        "colab": {
          "base_uri": "https://localhost:8080/"
        },
        "id": "njh2OUuDlxOw",
        "outputId": "c1f1b239-bf58-4c14-ef9f-efee5c4be3ec"
      },
      "outputs": [
        {
          "name": "stdout",
          "output_type": "stream",
          "text": [
            "Epoch [1/5], Loss: 0.7934\n",
            "Epoch [2/5], Loss: 0.7934\n",
            "Epoch [3/5], Loss: 0.7934\n",
            "Epoch [4/5], Loss: 0.7934\n",
            "Epoch [5/5], Loss: 0.7933\n"
          ]
        }
      ],
      "source": [
        "num_epochs = 5\n",
        "lambda_ = 1e-4\n",
        "losses = []\n",
        "train_model(num_epochs, train_loader, lambda_, wider_model, losses)"
      ]
    },
    {
      "cell_type": "code",
      "execution_count": 57,
      "metadata": {
        "colab": {
          "base_uri": "https://localhost:8080/"
        },
        "id": "AAisiGPnoZHh",
        "outputId": "38c45a3c-54ff-4cd6-cf6c-84cd8ca966d7"
      },
      "outputs": [
        {
          "name": "stdout",
          "output_type": "stream",
          "text": [
            "Evaluation Metrics:\n",
            "Loss (MSE): 0.8019\n",
            "Mean Squared Error: 0.8019\n",
            "Mean Absolute Error: 0.5765\n",
            "R2 Score: -0.0000\n"
          ]
        }
      ],
      "source": [
        "\n",
        "criterion = torch.nn.MSELoss()\n",
        "\n",
        "metrics, predictions, targets = evaluate_model(wider_model, val_loader, criterion)\n",
        "\n",
        "print(\"Evaluation Metrics:\")\n",
        "for metric, value in metrics.items():\n",
        "    print(f\"{metric}: {value:.4f}\")\n"
      ]
    },
    {
      "cell_type": "code",
      "execution_count": 56,
      "metadata": {
        "colab": {
          "base_uri": "https://localhost:8080/",
          "height": 564
        },
        "id": "qZ9qjNQbmxde",
        "outputId": "17f1bb47-cdb4-4fa4-bf09-10b22d5d03c8"
      },
      "outputs": [
        {
          "data": {
            "image/png": "[encoded data removed]",
            "text/plain": [
              "<Figure size 800x600 with 1 Axes>"
            ]
          },
          "metadata": {},
          "output_type": "display_data"
        }
      ],
      "source": [
        "\n",
        "plot_training_loss(losses)"
      ]
    },
    {
      "cell_type": "code",
      "execution_count": 58,
      "metadata": {
        "colab": {
          "base_uri": "https://localhost:8080/"
        },
        "id": "iRJbwCshoVUm",
        "outputId": "9a77ce36-1a39-40a8-d008-fec43f27ac00"
      },
      "outputs": [
        {
          "name": "stdout",
          "output_type": "stream",
          "text": [
            "Epoch [1/5], Loss: 0.7935\n",
            "Epoch [2/5], Loss: 0.7934\n",
            "Epoch [3/5], Loss: 0.7935\n",
            "Epoch [4/5], Loss: 0.7935\n",
            "Epoch [5/5], Loss: 0.7934\n"
          ]
        }
      ],
      "source": [
        "num_epochs = 5\n",
        "lambda_ = 1e-4\n",
        "losses = []\n",
        "train_model(num_epochs, train_loader, lambda_, deeper_model, losses)"
      ]
    },
    {
      "cell_type": "code",
      "execution_count": 59,
      "metadata": {
        "colab": {
          "base_uri": "https://localhost:8080/"
        },
        "id": "f06yHXbHom7V",
        "outputId": "9a6ab3fe-c086-4ae5-d95a-f7dc2fe9d8bd"
      },
      "outputs": [
        {
          "name": "stdout",
          "output_type": "stream",
          "text": [
            "Evaluation Metrics:\n",
            "Loss (MSE): 0.8021\n",
            "Mean Squared Error: 0.8022\n",
            "Mean Absolute Error: 0.5761\n",
            "R2 Score: -0.0003\n"
          ]
        }
      ],
      "source": [
        "criterion = torch.nn.MSELoss()\n",
        "\n",
        "metrics, predictions, targets = evaluate_model(deeper_model, val_loader, criterion)\n",
        "\n",
        "print(\"Evaluation Metrics:\")\n",
        "for metric, value in metrics.items():\n",
        "    print(f\"{metric}: {value:.4f}\")"
      ]
    },
    {
      "cell_type": "code",
      "execution_count": 60,
      "metadata": {
        "colab": {
          "base_uri": "https://localhost:8080/",
          "height": 564
        },
        "id": "dH29l4Jxot_3",
        "outputId": "95fa68ae-19e0-4278-b512-abeb80d8ddb5"
      },
      "outputs": [
        {
          "data": {
            "image/png": "[encoded data removed]",
            "text/plain": [
              "<Figure size 800x600 with 1 Axes>"
            ]
          },
          "metadata": {},
          "output_type": "display_data"
        }
      ],
      "source": [
        "\n",
        "plot_training_loss(losses)"
      ]
    },
    {
      "cell_type": "code",
      "execution_count": null,
      "metadata": {
        "id": "5rhT53Qxpcgj"
      },
      "outputs": [],
      "source": []
    }
  ],
  "metadata": {
    "accelerator": "GPU",
    "colab": {
      "gpuType": "T4",
      "machine_shape": "hm",
      "provenance": []
    },
    "kaggle": {
      "accelerator": "none",
      "dataSources": [
        {
          "datasetId": 6238476,
          "sourceId": 10111950,
          "sourceType": "datasetVersion"
        },
        {
          "datasetId": 6238494,
          "sourceId": 10111972,
          "sourceType": "datasetVersion"
        }
      ],
      "dockerImageVersionId": 30804,
      "isGpuEnabled": false,
      "isInternetEnabled": true,
      "language": "python",
      "sourceType": "notebook"
    },
    "kernelspec": {
      "display_name": "Python 3",
      "name": "python3"
    },
    "language_info": {
      "codemirror_mode": {
        "name": "ipython",
        "version": 3
      },
      "file_extension": ".py",
      "mimetype": "text/x-python",
      "name": "python",
      "nbconvert_exporter": "python",
      "pygments_lexer": "ipython3",
      "version": "3.10.14"
    }
  },
  "nbformat": 4,
  "nbformat_minor": 0
}
